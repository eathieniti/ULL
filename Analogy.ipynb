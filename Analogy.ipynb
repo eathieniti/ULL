{
 "cells": [
  {
   "cell_type": "markdown",
   "metadata": {},
   "source": [
    "# Analogy Evaluation"
   ]
  },
  {
   "cell_type": "markdown",
   "metadata": {},
   "source": [
    "## Load in the embeddings"
   ]
  },
  {
   "cell_type": "code",
   "execution_count": null,
   "metadata": {
    "collapsed": true
   },
   "outputs": [],
   "source": [
    "\n",
    "import pandas as pd\n",
    "import numpy as np\n",
    "import pickle\n",
    "from itertools import islice\n",
    "from sklearn import preprocessing  # Two samples, with 3 dimensions.\n",
    "import analyze\n",
    "import evaluate\n",
    "import imp\n",
    "import time\n",
    "from sklearn.metrics import pairwise_distances\n",
    "\n",
    "path = './data/'\n",
    "\n",
    "embedding_names = ['bow2','bow5', 'deps']\n",
    "\n",
    "\n",
    "simlexf = 'Simlex/SimLex-999.txt'\n",
    "\n",
    "#\n",
    "# embeddings: list of dicts holding the data for each embedding\n",
    "# dict: {name - embedding name,\n",
    "#       filename - embedding data filename\n",
    "#       words - dict holding the words  and their vectors\n",
    "#    \n",
    "embeddings = []\n",
    "\n",
    "\n",
    "for name in embedding_names:\n",
    "    # words: dict, holds all words and their vectors for each embedding\n",
    "    words = {}\n",
    "    words_normalized = {}\n",
    "    filename = name + '.words.bz2'\n",
    "    embedding_df = pd.read_table(path + filename , sep=' ', header=None)\n",
    "    for index, row in embedding_df.iterrows():\n",
    "        words[row[0]] = row[1:]\n",
    "    \n",
    "    \n",
    "    embedding_vectors = np.stack(list(words.values()))\n",
    "    embedding_vocabulary = np.stack(list(words.keys()))\n",
    "    embeddings.append({'name':name, 'filename': filename, \n",
    "                            'words': words, ' embedding_vectors':  embedding_vectors,\n",
    "                       'embedding_vocabulary': embedding_vocabulary})\n",
    "        \n",
    "\n"
   ]
  },
  {
   "cell_type": "markdown",
   "metadata": {},
   "source": [
    "## ANALOGY TASK"
   ]
  },
  {
   "cell_type": "code",
   "execution_count": null,
   "metadata": {
    "collapsed": true
   },
   "outputs": [],
   "source": [
    "\n",
    "\n",
    "\n",
    "\n",
    "\n",
    "def MRR(X, Y, indices, exclude):\n",
    "    # \n",
    "    # X: query vectors matrix (size: A x M)\n",
    "    # Y: embedding vectors matrix (size: Nwords x Mfeatures)\n",
    "    # indices: indices of the real (size: A)\n",
    "    # exclude = list of indices to exclude for each analogy word\n",
    "    # Compute distances between each codeword and each other codeword\n",
    "    distance_matrix = scipy.spatial.distance.cdist(X, Y, metric='cosine')\n",
    "    exclude = np.array(exclude)\n",
    "    m = np.amax(distance_matrix)\n",
    "    \n",
    "    for i in [0,1,2]:\n",
    "        #print(exclude[:,0].flatten())\n",
    "        distance_matrix[np.arange(X.shape[0]), exclude[:,i].flatten()] =  m\n",
    "    # Rank is the number of distances smaller than the correct distance, a\n",
    "    # specified by the indices arg\n",
    "    n_le = distance_matrix.T <= distance_matrix[np.arange(X.shape[0]), indices]\n",
    "    n_lt = distance_matrix.T < distance_matrix[np.arange(X.shape[0]), indices]\n",
    "    return (np.mean(1./n_le.sum(axis=0)),\n",
    "           np.mean(1./(n_lt.sum(axis=0) + 1)))\n",
    "\n",
    "\n",
    "MRR(all_bstars, embedding_vectors, answer_embedding_indexes, to_exclude)"
   ]
  },
  {
   "cell_type": "code",
   "execution_count": 4,
   "metadata": {
    "collapsed": true
   },
   "outputs": [],
   "source": [
    "\n",
    "\n",
    "analyze = imp.reload(analyze)\n",
    "\n",
    "words = embeddings[0]['words']\n",
    "embedding_vectors = np.stack(list(words.values()))\n",
    "embedding_vocabulary = np.stack(list(words.keys()))"
   ]
  },
  {
   "cell_type": "markdown",
   "metadata": {
    "collapsed": true
   },
   "source": [
    "### Load in the analogy dataset"
   ]
  },
  {
   "cell_type": "code",
   "execution_count": 5,
   "metadata": {},
   "outputs": [
    {
     "data": {
      "text/html": [
       "<div>\n",
       "<table border=\"1\" class=\"dataframe\">\n",
       "  <thead>\n",
       "    <tr style=\"text-align: right;\">\n",
       "      <th></th>\n",
       "      <th>Athens</th>\n",
       "      <th>Greece</th>\n",
       "      <th>Baghdad</th>\n",
       "      <th>Iraq</th>\n",
       "    </tr>\n",
       "  </thead>\n",
       "  <tbody>\n",
       "    <tr>\n",
       "      <th>0</th>\n",
       "      <td>Athens</td>\n",
       "      <td>Greece</td>\n",
       "      <td>Bangkok</td>\n",
       "      <td>Thailand</td>\n",
       "    </tr>\n",
       "    <tr>\n",
       "      <th>1</th>\n",
       "      <td>Athens</td>\n",
       "      <td>Greece</td>\n",
       "      <td>Beijing</td>\n",
       "      <td>China</td>\n",
       "    </tr>\n",
       "    <tr>\n",
       "      <th>2</th>\n",
       "      <td>Athens</td>\n",
       "      <td>Greece</td>\n",
       "      <td>Berlin</td>\n",
       "      <td>Germany</td>\n",
       "    </tr>\n",
       "    <tr>\n",
       "      <th>3</th>\n",
       "      <td>Athens</td>\n",
       "      <td>Greece</td>\n",
       "      <td>Bern</td>\n",
       "      <td>Switzerland</td>\n",
       "    </tr>\n",
       "    <tr>\n",
       "      <th>4</th>\n",
       "      <td>Athens</td>\n",
       "      <td>Greece</td>\n",
       "      <td>Cairo</td>\n",
       "      <td>Egypt</td>\n",
       "    </tr>\n",
       "  </tbody>\n",
       "</table>\n",
       "</div>"
      ],
      "text/plain": [
       "   Athens  Greece  Baghdad         Iraq\n",
       "0  Athens  Greece  Bangkok     Thailand\n",
       "1  Athens  Greece  Beijing        China\n",
       "2  Athens  Greece   Berlin      Germany\n",
       "3  Athens  Greece     Bern  Switzerland\n",
       "4  Athens  Greece    Cairo        Egypt"
      ]
     },
     "execution_count": 5,
     "metadata": {},
     "output_type": "execute_result"
    }
   ],
   "source": [
    "# Analogy Task\n",
    "\n",
    "analogy_file = 'questions-words.txt'\n",
    "analogy_words = pd.read_table(path + analogy_file , sep=' ', header=1)\n",
    "analogy_words.head()\n",
    "\n"
   ]
  },
  {
   "cell_type": "code",
   "execution_count": 55,
   "metadata": {},
   "outputs": [
    {
     "name": "stdout",
     "output_type": "stream",
     "text": [
      "(0.70005419519385836, 0.70005419519385836) 9516\n",
      "(0.69025550542683178, 0.69025550542683178) 9516\n",
      "(0.67642604656615557, 0.67642604656615557) 9516\n",
      "6475.316911935806 seconds\n"
     ]
    }
   ],
   "source": [
    "start =  time.time()\n",
    "\n",
    "all_bstars = []\n",
    "\n",
    "for embedding in embeddings:\n",
    "    words = embedding['words']\n",
    "    embedding_vectors = np.stack(list(words.values()))\n",
    "    embedding_vocabulary = np.stack(list(words.keys()))\n",
    "\n",
    "    # warning here I only used the 9000 first words!\n",
    "    # also breaks on first one\n",
    "    indexes_found = []\n",
    "    answers = []\n",
    "    \n",
    "    answer_embedding_indexes = []\n",
    "    to_exclude = []\n",
    "    all_bstars = []\n",
    "    for index, row in analogy_words.iterrows():\n",
    "            if row[0] in words.keys() and row[1] in words.keys() and row[2] in words.keys() and row[3] in words.keys():   \n",
    "                #only do for a subset:\n",
    "                indexes_found.append(index)\n",
    "                a = words[row[0]]\n",
    "                astar = words[row[1]]\n",
    "                b = words[row[2]]\n",
    "                vocab_keys = list(embedding_vocabulary)\n",
    "\n",
    "                actual_bstar_index = vocab_keys.index(row[3])\n",
    "\n",
    "                # Compute offset a* - a, add to b\n",
    "                bstar = b.T + (astar.T - a.T)            \n",
    "                cosine_sims = []\n",
    "                cosine_sims_keys = []\n",
    "                # Now that we computed  bstar find the closest vector to it\n",
    "                # compute cosine similarity with all vectors\n",
    "                # obtain the closest \n",
    "\n",
    "                #exclude = [row[0], row[1], row[2]]\n",
    "\n",
    "              \n",
    "                to_exclude.append([vocab_keys.index(row[0]),\n",
    "                                  vocab_keys.index(row[1]),\n",
    "                                  vocab_keys.index(row[2])])\n",
    "                all_bstars.append(bstar)\n",
    "                answer_embedding_indexes.append(actual_bstar_index)\n",
    "    \n",
    "    all_bstars_np = np.array(all_bstars)\n",
    "\n",
    "\n",
    "\n",
    "    embeddingMRR = MRR(all_bstars_np, embedding_vectors, \n",
    "                       answer_embedding_indexes, to_exclude)\n",
    "    \n",
    "    print(embeddingMRR,len(indexes_found ))\n",
    "    embedding.update({'MRR':embeddingMRR, \n",
    "                      'analogy_words_found': len(indexes_found)})\n",
    "                      \n",
    "end = time.time()\n",
    "print(end-start, \"seconds\")\n",
    "            "
   ]
  },
  {
   "cell_type": "code",
   "execution_count": 56,
   "metadata": {},
   "outputs": [
    {
     "name": "stdout",
     "output_type": "stream",
     "text": [
      "bow2 (0.70005419519385836, 0.70005419519385836)\n",
      "bow5 (0.69025550542683178, 0.69025550542683178)\n",
      "deps (0.67642604656615557, 0.67642604656615557)\n"
     ]
    }
   ],
   "source": [
    "for embedding in embeddings:\n",
    "    print(embedding['name'], embedding['MRR'])\n",
    "    \n",
    "    \n",
    "    "
   ]
  },
  {
   "cell_type": "code",
   "execution_count": null,
   "metadata": {
    "collapsed": true
   },
   "outputs": [],
   "source": [
    "import scipy\n"
   ]
  },
  {
   "cell_type": "code",
   "execution_count": 175,
   "metadata": {},
   "outputs": [
    {
     "data": {
      "text/plain": [
       "1632"
      ]
     },
     "execution_count": 175,
     "metadata": {},
     "output_type": "execute_result"
    }
   ],
   "source": [
    "len(all_bstars)\n"
   ]
  },
  {
   "cell_type": "code",
   "execution_count": 161,
   "metadata": {},
   "outputs": [
    {
     "data": {
      "text/plain": [
       "1632"
      ]
     },
     "execution_count": 161,
     "metadata": {},
     "output_type": "execute_result"
    }
   ],
   "source": [
    "len(sorted_indices)\n",
    "len(answer_embedding_indexes)\n"
   ]
  },
  {
   "cell_type": "code",
   "execution_count": 162,
   "metadata": {
    "collapsed": true
   },
   "outputs": [],
   "source": [
    "sorted_indices_answers = sorted_indices[np.arange(len(sorted_indices)),\n",
    "                                        answer_embedding_indexes]\n",
    "                                        \n"
   ]
  },
  {
   "cell_type": "code",
   "execution_count": 163,
   "metadata": {},
   "outputs": [
    {
     "data": {
      "text/plain": [
       "array([  39,  402,  130, ...,  823, 1335,  673])"
      ]
     },
     "execution_count": 163,
     "metadata": {},
     "output_type": "execute_result"
    }
   ],
   "source": [
    "sorted_indices_answers"
   ]
  },
  {
   "cell_type": "code",
   "execution_count": null,
   "metadata": {
    "collapsed": true
   },
   "outputs": [],
   "source": [
    "np.shape(dists)\n",
    "\n"
   ]
  },
  {
   "cell_type": "code",
   "execution_count": null,
   "metadata": {
    "collapsed": true
   },
   "outputs": [],
   "source": [
    "# Get the answer "
   ]
  },
  {
   "cell_type": "code",
   "execution_count": null,
   "metadata": {
    "collapsed": true
   },
   "outputs": [],
   "source": [
    "np.argsort()"
   ]
  },
  {
   "cell_type": "code",
   "execution_count": 142,
   "metadata": {
    "collapsed": true
   },
   "outputs": [],
   "source": [
    "# Find the indexes of each answer so as to obtain their rank\n",
    "correct_words = 0 \n",
    "answers_emb_index = []\n",
    "for index, row in analogy_words.iterrows():\n",
    "    if index in indexes_found:\n",
    "        accurate_answer = row[3]\n",
    "        answer_embedding_index = list(embedding_vocabulary).index(accurate_answer)\n",
    "        answers_emb_index.append(answer_embedding_index)\n",
    "        \n",
    "\n",
    "        \n",
    "    \n"
   ]
  },
  {
   "cell_type": "code",
   "execution_count": 143,
   "metadata": {},
   "outputs": [
    {
     "data": {
      "text/plain": [
       "[]"
      ]
     },
     "execution_count": 143,
     "metadata": {},
     "output_type": "execute_result"
    }
   ],
   "source": [
    "answers_emb_index"
   ]
  },
  {
   "cell_type": "code",
   "execution_count": 125,
   "metadata": {
    "collapsed": true
   },
   "outputs": [],
   "source": [
    "    print(accurate_answer, possible_answers, '\\n')\n",
    "        if accurate_answer in possible_answers[index]:\n",
    "            correct_words += 1\n",
    "            \n",
    "            "
   ]
  },
  {
   "cell_type": "code",
   "execution_count": null,
   "metadata": {
    "collapsed": true
   },
   "outputs": [],
   "source": [
    "ind"
   ]
  },
  {
   "cell_type": "code",
   "execution_count": 126,
   "metadata": {
    "collapsed": true
   },
   "outputs": [],
   "source": [
    "import csv\n",
    "import re\n",
    "indexes_found = []\n",
    "with open('answers_' + embedding['name'] + 'words_found.csv','r') as csvfile:\n",
    "    reader = csv.reader(csvfile)\n",
    "    for r in reader:\n",
    "        indexes_found.append(int(str(r).strip('\\[\\]\\'')))\n",
    "        \n",
    "possible_answers = []\n",
    "with open('answers_' + embedding['name'] + '.csv','r') as csvfile:\n",
    "    reader = csv.reader(csvfile)\n",
    "    for row in reader:\n",
    "        row_words =[]\n",
    "        for w in row:\n",
    "            wnew = re.sub('[\\'\\\"\\ ]', '', w)            \n",
    "            row_words.append(wnew)\n",
    "        possible_answers.append(row_words)\n",
    "        \n",
    "         \n",
    "        \n",
    "        "
   ]
  },
  {
   "cell_type": "code",
   "execution_count": 98,
   "metadata": {},
   "outputs": [
    {
     "data": {
      "text/plain": [
       "'daughters'"
      ]
     },
     "execution_count": 98,
     "metadata": {},
     "output_type": "execute_result"
    }
   ],
   "source": [
    "possible_answers[1][1]"
   ]
  },
  {
   "cell_type": "code",
   "execution_count": 127,
   "metadata": {},
   "outputs": [
    {
     "data": {
      "text/plain": [
       "[]"
      ]
     },
     "execution_count": 127,
     "metadata": {},
     "output_type": "execute_result"
    }
   ],
   "source": [
    "indexes_found"
   ]
  },
  {
   "cell_type": "code",
   "execution_count": 115,
   "metadata": {},
   "outputs": [
    {
     "data": {
      "text/plain": [
       "[8366,\n",
       " 8367,\n",
       " 8368,\n",
       " 8369,\n",
       " 8370,\n",
       " 8371,\n",
       " 8372,\n",
       " 8373,\n",
       " 8374,\n",
       " 8375,\n",
       " 8376,\n",
       " 8377,\n",
       " 8378,\n",
       " 8379,\n",
       " 8380,\n",
       " 8381,\n",
       " 8382,\n",
       " 8383,\n",
       " 8384,\n",
       " 8385,\n",
       " 8386,\n",
       " 8387,\n",
       " 8388,\n",
       " 8389,\n",
       " 8390,\n",
       " 8391,\n",
       " 8392,\n",
       " 8393,\n",
       " 8394,\n",
       " 8395,\n",
       " 8396,\n",
       " 8397,\n",
       " 8398,\n",
       " 8399,\n",
       " 8400,\n",
       " 8401,\n",
       " 8402,\n",
       " 8403,\n",
       " 8404,\n",
       " 8405,\n",
       " 8406,\n",
       " 8407,\n",
       " 8408,\n",
       " 8409,\n",
       " 8410,\n",
       " 8411,\n",
       " 8412,\n",
       " 8413,\n",
       " 8414,\n",
       " 8415,\n",
       " 8416,\n",
       " 8417,\n",
       " 8418,\n",
       " 8419,\n",
       " 8420,\n",
       " 8421,\n",
       " 8422,\n",
       " 8423,\n",
       " 8424,\n",
       " 8425,\n",
       " 8426,\n",
       " 8427,\n",
       " 8428,\n",
       " 8429,\n",
       " 8430,\n",
       " 8431,\n",
       " 8432,\n",
       " 8433,\n",
       " 8434,\n",
       " 8435,\n",
       " 8436,\n",
       " 8437,\n",
       " 8438,\n",
       " 8439,\n",
       " 8440,\n",
       " 8441,\n",
       " 8442,\n",
       " 8443,\n",
       " 8444,\n",
       " 8445,\n",
       " 8446,\n",
       " 8447,\n",
       " 8448,\n",
       " 8449,\n",
       " 8450,\n",
       " 8451,\n",
       " 8452,\n",
       " 8453,\n",
       " 8454,\n",
       " 8455,\n",
       " 8456,\n",
       " 8457,\n",
       " 8458,\n",
       " 8459,\n",
       " 8460,\n",
       " 8461,\n",
       " 8462,\n",
       " 8463,\n",
       " 8464,\n",
       " 8465,\n",
       " 8466,\n",
       " 8467,\n",
       " 8468,\n",
       " 8469,\n",
       " 8470,\n",
       " 8471,\n",
       " 8472,\n",
       " 8473,\n",
       " 8474,\n",
       " 8475,\n",
       " 8476,\n",
       " 8477,\n",
       " 8478,\n",
       " 8479,\n",
       " 8480,\n",
       " 8481,\n",
       " 8482,\n",
       " 8483,\n",
       " 8484,\n",
       " 8485,\n",
       " 8486,\n",
       " 8487,\n",
       " 8488,\n",
       " 8489,\n",
       " 8490,\n",
       " 8491,\n",
       " 8492,\n",
       " 8493,\n",
       " 8494,\n",
       " 8495,\n",
       " 8496,\n",
       " 8497,\n",
       " 8498,\n",
       " 8499,\n",
       " 8500,\n",
       " 8501,\n",
       " 8502,\n",
       " 8503,\n",
       " 8504,\n",
       " 8505,\n",
       " 8506,\n",
       " 8507,\n",
       " 8508,\n",
       " 8509,\n",
       " 8510,\n",
       " 8511,\n",
       " 8512,\n",
       " 8513,\n",
       " 8514,\n",
       " 8515,\n",
       " 8516,\n",
       " 8517,\n",
       " 8518,\n",
       " 8519,\n",
       " 8520,\n",
       " 8521,\n",
       " 8522,\n",
       " 8523,\n",
       " 8524,\n",
       " 8525,\n",
       " 8526,\n",
       " 8527,\n",
       " 8528,\n",
       " 8529,\n",
       " 8530,\n",
       " 8531,\n",
       " 8532,\n",
       " 8533,\n",
       " 8534,\n",
       " 8535,\n",
       " 8536,\n",
       " 8537,\n",
       " 8538,\n",
       " 8539,\n",
       " 8540,\n",
       " 8541,\n",
       " 8542,\n",
       " 8543,\n",
       " 8544,\n",
       " 8545,\n",
       " 8546,\n",
       " 8547,\n",
       " 8548,\n",
       " 8549,\n",
       " 8550,\n",
       " 8551,\n",
       " 8552,\n",
       " 8553,\n",
       " 8554,\n",
       " 8555,\n",
       " 8556,\n",
       " 8557,\n",
       " 8558,\n",
       " 8559,\n",
       " 8560,\n",
       " 8561,\n",
       " 8562,\n",
       " 8563,\n",
       " 8564,\n",
       " 8565,\n",
       " 8566,\n",
       " 8567,\n",
       " 8568,\n",
       " 8569,\n",
       " 8570,\n",
       " 8571,\n",
       " 8572,\n",
       " 8573,\n",
       " 8574,\n",
       " 8575,\n",
       " 8576,\n",
       " 8577,\n",
       " 8578,\n",
       " 8579,\n",
       " 8580,\n",
       " 8581,\n",
       " 8582,\n",
       " 8583,\n",
       " 8584,\n",
       " 8585,\n",
       " 8586,\n",
       " 8587,\n",
       " 8588,\n",
       " 8589,\n",
       " 8590,\n",
       " 8591,\n",
       " 8592,\n",
       " 8593,\n",
       " 8594,\n",
       " 8595,\n",
       " 8596,\n",
       " 8597,\n",
       " 8598,\n",
       " 8599,\n",
       " 8600,\n",
       " 8601,\n",
       " 8602,\n",
       " 8603,\n",
       " 8604,\n",
       " 8605,\n",
       " 8606,\n",
       " 8607,\n",
       " 8608,\n",
       " 8609,\n",
       " 8610,\n",
       " 8611,\n",
       " 8612,\n",
       " 8613,\n",
       " 8614,\n",
       " 8615,\n",
       " 8616,\n",
       " 8617,\n",
       " 8618,\n",
       " 8619,\n",
       " 8620,\n",
       " 8621,\n",
       " 8622,\n",
       " 8623,\n",
       " 8624,\n",
       " 8625,\n",
       " 8626,\n",
       " 8627,\n",
       " 8628,\n",
       " 8629,\n",
       " 8630,\n",
       " 8631,\n",
       " 8632,\n",
       " 8633,\n",
       " 8634,\n",
       " 8635,\n",
       " 8636,\n",
       " 8637,\n",
       " 8638,\n",
       " 8639,\n",
       " 8640,\n",
       " 8641,\n",
       " 8642,\n",
       " 8643,\n",
       " 8644,\n",
       " 8645,\n",
       " 8646,\n",
       " 8647,\n",
       " 8648,\n",
       " 8649,\n",
       " 8650,\n",
       " 8651,\n",
       " 8652,\n",
       " 8653,\n",
       " 8654,\n",
       " 8655,\n",
       " 8656,\n",
       " 8657,\n",
       " 8658,\n",
       " 8659,\n",
       " 8660,\n",
       " 8661,\n",
       " 8662,\n",
       " 8663,\n",
       " 8664,\n",
       " 8665,\n",
       " 8666,\n",
       " 8667,\n",
       " 8668,\n",
       " 8669,\n",
       " 8670,\n",
       " 8671,\n",
       " 8672,\n",
       " 8673,\n",
       " 8674,\n",
       " 8675,\n",
       " 8676,\n",
       " 8677,\n",
       " 8678,\n",
       " 8679,\n",
       " 8680,\n",
       " 8681,\n",
       " 8682,\n",
       " 8683,\n",
       " 8684,\n",
       " 8685,\n",
       " 8686,\n",
       " 8687,\n",
       " 8688,\n",
       " 8689,\n",
       " 8690,\n",
       " 8691,\n",
       " 8692,\n",
       " 8693,\n",
       " 8694,\n",
       " 8695,\n",
       " 8696,\n",
       " 8697,\n",
       " 8698,\n",
       " 8699,\n",
       " 8700,\n",
       " 8701,\n",
       " 8702,\n",
       " 8703,\n",
       " 8704,\n",
       " 8705,\n",
       " 8706,\n",
       " 8707,\n",
       " 8708,\n",
       " 8709,\n",
       " 8710,\n",
       " 8711,\n",
       " 8712,\n",
       " 8713,\n",
       " 8714,\n",
       " 8715,\n",
       " 8716,\n",
       " 8717,\n",
       " 8718,\n",
       " 8719,\n",
       " 8720,\n",
       " 8721,\n",
       " 8722,\n",
       " 8723,\n",
       " 8724,\n",
       " 8725,\n",
       " 8726,\n",
       " 8727,\n",
       " 8728,\n",
       " 8729,\n",
       " 8730,\n",
       " 8731,\n",
       " 8732,\n",
       " 8733,\n",
       " 8734,\n",
       " 8735,\n",
       " 8736,\n",
       " 8737,\n",
       " 8738,\n",
       " 8739,\n",
       " 8740,\n",
       " 8741,\n",
       " 8742,\n",
       " 8743,\n",
       " 8744,\n",
       " 8745,\n",
       " 8746,\n",
       " 8747,\n",
       " 8748,\n",
       " 8749,\n",
       " 8750,\n",
       " 8751,\n",
       " 8752,\n",
       " 8753,\n",
       " 8754,\n",
       " 8755,\n",
       " 8756,\n",
       " 8757,\n",
       " 8758,\n",
       " 8759,\n",
       " 8760,\n",
       " 8761,\n",
       " 8762,\n",
       " 8763,\n",
       " 8764,\n",
       " 8765,\n",
       " 8766,\n",
       " 8767,\n",
       " 8768,\n",
       " 8769,\n",
       " 8770,\n",
       " 8771,\n",
       " 8772,\n",
       " 8773,\n",
       " 8774,\n",
       " 8775,\n",
       " 8776,\n",
       " 8777,\n",
       " 8778,\n",
       " 8779,\n",
       " 8780,\n",
       " 8781,\n",
       " 8782,\n",
       " 8783,\n",
       " 8784,\n",
       " 8785,\n",
       " 8786,\n",
       " 8787,\n",
       " 8788,\n",
       " 8789,\n",
       " 8790,\n",
       " 8791,\n",
       " 8792,\n",
       " 8793,\n",
       " 8794,\n",
       " 8795,\n",
       " 8796,\n",
       " 8797,\n",
       " 8798,\n",
       " 8799,\n",
       " 8800,\n",
       " 8801,\n",
       " 8802,\n",
       " 8803,\n",
       " 8804,\n",
       " 8805,\n",
       " 8806,\n",
       " 8807,\n",
       " 8808,\n",
       " 8809,\n",
       " 8810,\n",
       " 8811,\n",
       " 8812,\n",
       " 8813,\n",
       " 8814,\n",
       " 8815,\n",
       " 8816,\n",
       " 8817,\n",
       " 8818,\n",
       " 8819,\n",
       " 8820,\n",
       " 8821,\n",
       " 8822,\n",
       " 8823,\n",
       " 8824,\n",
       " 8825,\n",
       " 8826,\n",
       " 8827,\n",
       " 8828,\n",
       " 8829,\n",
       " 8830,\n",
       " 8831,\n",
       " 8832,\n",
       " 8833,\n",
       " 8834,\n",
       " 8835,\n",
       " 8836,\n",
       " 8837,\n",
       " 8838,\n",
       " 8839,\n",
       " 8840,\n",
       " 8841,\n",
       " 8842,\n",
       " 8843,\n",
       " 8844,\n",
       " 8845,\n",
       " 8846,\n",
       " 8847,\n",
       " 8848,\n",
       " 8849,\n",
       " 8850,\n",
       " 8851,\n",
       " 8852,\n",
       " 8853,\n",
       " 8854,\n",
       " 8855,\n",
       " 8856,\n",
       " 8857,\n",
       " 8858,\n",
       " 8859,\n",
       " 8860,\n",
       " 8861,\n",
       " 8862,\n",
       " 8863,\n",
       " 8864,\n",
       " 8865,\n",
       " 8866,\n",
       " 8867,\n",
       " 8868,\n",
       " 8869,\n",
       " 8870,\n",
       " 8871,\n",
       " 8873,\n",
       " 8874,\n",
       " 8875,\n",
       " 8876,\n",
       " 8877,\n",
       " 8878,\n",
       " 8879,\n",
       " 8880,\n",
       " 8881,\n",
       " 8882,\n",
       " 8883,\n",
       " 8884,\n",
       " 8885,\n",
       " 8886,\n",
       " 8887,\n",
       " 8888,\n",
       " 8889,\n",
       " 8890,\n",
       " 8891,\n",
       " 8892,\n",
       " 8893,\n",
       " 8894,\n",
       " 8895,\n",
       " 8896,\n",
       " 8897,\n",
       " 8898,\n",
       " 8899,\n",
       " 8900,\n",
       " 8901,\n",
       " 8902,\n",
       " 8903,\n",
       " 8904,\n",
       " 8905,\n",
       " 8906,\n",
       " 8907,\n",
       " 8908,\n",
       " 8909,\n",
       " 8910,\n",
       " 8911,\n",
       " 8912,\n",
       " 8913,\n",
       " 8914,\n",
       " 8915,\n",
       " 8916,\n",
       " 8917,\n",
       " 8918,\n",
       " 8919,\n",
       " 8920]"
      ]
     },
     "execution_count": 115,
     "metadata": {},
     "output_type": "execute_result"
    }
   ],
   "source": [
    "indexes_found"
   ]
  },
  {
   "cell_type": "code",
   "execution_count": 118,
   "metadata": {},
   "outputs": [
    {
     "name": "stdout",
     "output_type": "stream",
     "text": [
      "sister [['[sister', 'cousin', 'brother-in-law', 'sister-in-law]'], ['[sons', 'daughters', 'siblings', 'brothers-in-law]'], ['[mum', 'girlfriend', 'fiance', 'ex-boyfriend]'], ['[grandmother', 'stepfather', 'parents', 'husband]'], ['[great-grandfather', 'mother', 'aunt', 'great-grandmother]'], ['[annabelle', 'granny', 'maggie', 'sally]'], ['[daughter', 'niece', 'great-grandson', 'cousin]'], ['[bridegroom', 'wedding', 'hippodamia', 'bride-to-be]'], ['[her', 'marji', 'jae-min', 'ji-eun]'], ['[their', 'tokiko', 'step-sister', 'hers]'], ['[ex-husband', 'mother-in-law', 'sister-in-law', 'boyfriend]'], ['[monarch', 'king-emperor', 'princess', 'pmare]'], ['[stranger', 'person', 'divorcee', 'villager]'], ['[cousin', 'brother-in-law', 'son-in-law', 'granddaughter]'], ['[prostitute', 'woman', 'housewife', 'waitress]'], ['[hohenlohe-langenburg', 'vadhana', 'bourbon-parma', 'asfaw]'], ['[granddaughter', 'niece', 'grandson', 'cousin]'], ['[granddaughters', 'grandsons', 'half-sisters', 'stepchildren]'], ['[step-sister', 'stepdaughter', 'niece', 'half-sister]'], ['[husband', 'stepmother', 'stepdaughter', 'fiance]'], ['[niece', 'sister-in-law', 'daughter-in-law', 'granddaughter]'], ['[grandmother', 'niece', 'grandfather', 'cousin]'], ['[daughters', 'half-sisters', 'siblings', 'granddaughters]'], ['[mum', 'girlfriend', 'grandma', 'fiance]'], ['[grandmother', 'mother-in-law', 'stepmother', 'aunt]'], ['[great-grandmother', 'mother', 'aunt', 'niece]'], ['[polly', 'granny', 'babysits', 'sally]'], ['[niece', 'daughter', 'great-granddaughter', 'half-sister]'], ['[maid', 'bride', 'governess', 'bridesmaid]'], ['[cammie', 'her', 'they', 'ismene]'], ['[their', 'elanor', 'cissie', 'fortunata]'], ['[fianc', 'sister-in-law', 'stepmother', 'daughter-in-law]'], ['[princess', 'berengaria', 'vadhana', 'regnant]'], ['[girl', 'maid', 'prostitute', 'redheaded]'], ['[sister-in-law', 'granddaughter', 'half-sister', 'daughter-in-law]'], ['[prostitute', 'waitress', 'housewife', 'housemaid]'], ['[hohenlohe-langenburg', 'ludovika', 'vadhana', 'mrtha]'], ['[granddaughter', 'niece', 'great-granddaughter', 'half-sister]'], ['[granddaughters', 'half-sisters', 'stepdaughters', 'stepchildren]'], ['[stepmother', 'half-sister', 'sister-in-law', 'step-sister]'], ['[mother-in-law', 'mother', 'sister-in-law', 'husband]'], ['[niece', 'sister-in-law', 'daughter-in-law', 'half-sister]'], ['[niece', 'grandmother', 'sister-in-law', 'mother-in-law]'], ['[schoolgirl', 'spunky', 'tomboy', 'redheaded]'], ['[mom', 'mother', 'aunt', 'grandma]'], ['[grandmother', 'parents', 'stepmother', 'stepfather]'], ['[mother', 'great-grandmother', 'great-aunt', 'aunt]'], ['[granny', 'elmyra', 'polly', 'babs]'], ['[niece', 'daughter', 'great-granddaughter', 'great-aunt]'], ['[bride', 'governess', 'bride-to-be', 'maid]'], ['[marji', 'her', 'girlhood', 'dreading]'], ['[branwell', 'hers', 'fortunata', 'their]'], ['[fianc', 'stepmother', 'mother', 'sister-in-law]'], ['[king-emperor', 'regnant', 'monarch', 'consort]'], ['[girl', 'maid', 'schoolgirl', 'redheaded]'], ['[granddaughter', 'sister-in-law', 'half-sister', 'great-aunt]'], ['[prostitute', 'housewife', 'schoolgirl', 'housemaid]'], ['[hohenlohe-langenburg', 'duchess', 'bourbon-parma', 'vadhana]'], ['[granddaughter', 'niece', 'half-sister', 'great-granddaughter]'], ['[granddaughters', 'half-sisters', 'stepchildren', 'siblings]'], ['[half-sister', 'stepsister', 'niece', 'sister-in-law]'], ['[stepmother', 'grandmother', 'mother-in-law', 'great-aunt]'], ['[stepdaughter', 'half-sister', 'daughter-in-law', 'sister-in-law]'], ['[aunt', 'niece', 'mother', 'great-aunt]'], ['[schoolgirl', 'twelve-year-old', 'redheaded', 'spunky]'], ['[half-sister', 'niece', 'sister-in-law', 'mother]'], ['[stepfather', 'grandmother', 'parents', 'grandfather]'], ['[great-grandfather', 'grandparents', 'uncle', 'mother]'], ['[granny', 'sweetie', 'dorrie', 'momma]'], ['[great-grandson', 'nephew', 'son-in-law', 'great-grandfather]'], ['[bridegroom', 'governess', 'wedding', 'hippodamia]'], ['[dong-joo', 'they', 'jae-min', 'her]'], ['[their', 'pyrrha', 'madri', 'lfgifu]'], ['[stepmother', 'sister-in-law', 'fianc', 'daughter-in-law]'], ['[vajiravudh', 'mongkut', 'prajadhipok', 'tupou]'], ['[girl', 'boy', 'thug', 'beggar]'], ['[son-in-law', 'half-brother', 'grandson', 'cousin]'], ['[policewoman', 'gunman', 'schoolteacher', 'waitress]'], ['[vadhana', 'consort', 'savang', 'schleswig-holstein-sonderburg-glcksburg]'], ['[grandson', 'granddaughter', 'great-grandson', 'grandchild]'], ['[grandsons', 'siblings', 'granddaughters', 'grandchildren]'], ['[stepmother', 'sister-in-law', 'stepsister', 'stepson]'], ['[mother-in-law', 'mother', 'husband', 'sister-in-law]'], ['[daughter-in-law', 'sister-in-law', 'niece', 'stepmother]'], ['[brother-in-law', 'aunt', 'nephew', 'father-in-law]'], ['[baby', 'spunky', '13-year-old', 'ten-year-old]'], ['[sister', 'brother-in-law', 'stepbrother', 'half-sister]'], ['[sons', 'siblings', 'brothers-in-law', 'daughters]'], ['[great-grandmother', 'aunt', 'grandparents', 'great-grandfather]'], ['[granny', 'polly', 'dorrie', 'babs]'], ['[niece', 'great-granddaughter', 'daughter', 'great-grandson]'], ['[bride', 'bride-to-be', 'governess', 'maid]'], ['[her', 'dreading', 'azula', 'timidly]'], ['[their', 'cissie', 'step-mother', 'stepmother]'], ['[stepmother', 'fianc', 'sister-in-law', 'daughter-in-law]'], ['[princess', 'consort', 'monarch', 'regnant]'], ['[girl', 'maid', 'red-haired', 'dark-haired]'], ['[granddaughter', 'sister-in-law', 'half-sister', 'cousin]'], ['[prostitute', 'housemaid', 'housewife', 'waitress]'], ['[consort', 'vadhana', 'hohenlohe-langenburg', 'bourbon-parma]'], ['[granddaughter', 'niece', 'great-granddaughter', 'half-sister]'], ['[granddaughters', 'grandchildren', 'grandsons', 'half-sisters]'], ['[half-sister', 'stepsister', 'sister-in-law', 'stepdaughter]'], ['[mother-in-law', 'grandmother', 'sister-in-law', 'aunt]'], ['[half-sister', 'niece', 'daughter-in-law', 'sister-in-law]'], ['[grandmother', 'niece', 'sister-in-law', 'mother-in-law]'], ['[schoolgirl', 'spunky', 'baby', 'sixteen-year-old]'], ['[half-sister', 'sister-in-law', 'half-brother', 'stepbrother]'], ['[siblings', 'daughters', 'sons', 'aunts]'], ['[mum', 'grandma', 'girlfriend', 'babysitter]'], ['[granny', 'dorrie', 'polly', 'nanny]'], ['[niece', 'daughter', 'half-sister', 'daughter-in-law]'], ['[bridegroom', 'governess', 'bride-to-be', 'maid]'], ['[marji', 'her', 'jae-min', 'adrianna]'], ['[their', 'cissie', 'cassie', 'stepmother]'], ['[fianc', 'stepmother', 'ex-husband', 'aunt]'], ['[princess', 'consort', 'monarch', 'regnant]'], ['[girl', 'maid', 'prostitute', 'housewife]'], ['[sister-in-law', 'half-sister', 'granddaughter', 'daughter-in-law]'], ['[prostitute', 'housewife', 'waitress', 'housemaid]'], ['[duchess', 'vadhana', 'consort', 'leszczyska]'], ['[granddaughter', 'niece', 'half-sister', 'stepdaughter]'], ['[granddaughters', 'half-sisters', 'stepchildren', 'siblings]'], ['[stepsister', 'half-sister', 'mother-in-law', 'step-sister]'], ['[mother-in-law', 'mother', 'aunt', 'fiance]'], ['[stepmother', 'sister-in-law', 'daughter-in-law', 'half-sister]'], ['[mother', 'mother-in-law', 'stepmother', 'niece]'], ['[schoolgirl', 'spunky', 'tomboy', 'redheaded]'], ['[half-sister', 'sister-in-law', 'stepmother', 'stepbrother]'], ['[siblings', 'daughters', 'aunts', 'granddaughters]'], ['[mum', 'girlfriend', 'grandma', 'nanny]'], ['[parents', 'mother-in-law', 'stepmother', 'stepfather]'], ['[great-grandson', 'great-grandfather', 'son-in-law', 'son]'], ['[bride', 'wedding', 'betrothal', 'hippodamia]'], ['[mother', 'daulne', 'marji', 'father]'], ['[zipporah', 'their', 'wachuku', 'stepmother]'], ['[stepmother', 'fianc', 'mother', 'sister-in-law]'], ['[kalkaua', 'prajadhipok', 'vajiravudh', 'king-emperor]'], ['[girl', 'beggar', 'boy', 'person]'], ['[son-in-law', 'grandson', 'niece', 'granddaughter]'], ['[prostitute', 'housewife', 'schoolteacher', 'housemaid]'], ['[bourbon-parma', 'hohenlohe-langenburg', 'saxe-meiningen', 'saxe-coburg-saalfeld]'], ['[granddaughter', 'grandson', 'great-grandson', 'great-grandfather]'], ['[granddaughters', 'grandsons', 'grandchildren', 'siblings]'], ['[half-sister', 'sister-in-law', 'stepson', 'stepsister]'], ['[stepmother', 'grandmother', 'mother-in-law', 'husband]'], ['[niece', 'daughter-in-law', 'granddaughter', 'stepmother]'], ['[father-in-law', 'grandmother', 'father', 'brother-in-law]'], ['[baby', 'schoolgirl', '10-year-old', '7-year-old]'], ['[half-brother', 'father', 'sister', 'nephew]'], ['[sons', 'siblings', 'daughters', 'brothers-in-law]'], ['[mum', 'mother', 'girlfriend', 'ex-girlfriend]'], ['[parents', 'grandmother', 'stepfather', 'grandfather]'], ['[great-grandfather', 'father', 'grandparents', 'mother]'], ['[bridegroom', 'governess', 'maid', 'bridesmaid]'], ['[her', 'marji', 'jae-min', 'adrianna]'], ['[fortunata', 'cissie', 'lucetta', 'cassie]'], ['[mother-in-law', 'sister-in-law', 'ex-husband', 'stepmother]'], ['[princess', 'king-emperor', 'vadhana', 'consort]'], ['[girl', 'maid', 'housewife', 'divorcee]'], ['[sister-in-law', 'stepdaughter', 'half-sister', 'daughter]'], ['[prostitute', 'housewife', 'waitress', 'housemaid]'], ['[duchess', 'hohenlohe-langenburg', 'ludovika', 'saxe-coburg-saalfeld]'], ['[niece', 'great-granddaughter', 'stepdaughter', 'half-sister]'], ['[granddaughters', 'half-sisters', 'stepchildren', 'stepdaughters]'], ['[stepdaughter', 'half-sister', 'sister-in-law', 'stepmother]'], ['[mother-in-law', 'stepdaughter', 'mother', 'sister-in-law]'], ['[niece', 'sister-in-law', 'daughter-in-law', 'half-sister]'], ['[niece', 'grandmother', 'sister-in-law', 'mother-in-law]'], ['[schoolgirl', 'spunky', 'sixteen-year-old', 'redheaded]'], ['[sister-in-law', 'half-sister', 'niece', 'stepdaughter]'], ['[daughters', 'siblings', 'granddaughters', 'sons]'], ['[mum', 'girlfriend', 'fiance', 'ex-girlfriend]'], ['[grandmother', 'stepfather', 'mother-in-law', 'fiance]'], ['[great-grandmother', 'aunt', 'niece', 'mother]'], ['[granny', 'polly', 'maggie', 'dorrie]'], ['[father', 'teenager', 'mother', 'sickbed]'], ['[mufasa', 'heloise', 'adamus', 'hermias]'], ['[fiance', 'mother-in-law', 'sister-in-law', 'stepmother]'], ['[uncrowned', 'prajadhipok', 'yeongjo', 'queen]'], ['[girl', 'boy', 'teenager', 'stranger]'], ['[son-in-law', 'cousin', 'half-brother', 'grandson]'], ['[prostitute', 'policewoman', 'gunman', 'soldier]'], ['[hohenlohe-langenburg', 'anhalt-bernburg', 'consort', 'bourbon-parma]'], ['[grandson', 'granddaughter', 'cousin', 'son-in-law]'], ['[grandsons', 'granddaughters', 'brothers', 'daughter]'], ['[stepsister', 'stepdaughter', 'stepmother', 'stepson]'], ['[mother', 'stepmother', 'stepdaughter', 'father]'], ['[niece', 'stepbrother', 'fiance', 'sister-in-law]'], ['[father-in-law', 'father', 'nephew', 'grandfather]'], ['[13-year-old', 'schoolgirl', 'teenager', 'sixteen-year-old]'], ['[half-brother', 'cousin', 'stepbrother', 'nephew]'], ['[sons', 'brother', 'brothers-in-law', 'half-brothers]'], ['[fiance', 'mum', 'girlfriend', 'ex-girlfriend]'], ['[stepfather', 'fiance', 'uncle', 'grandfather]'], ['[father', 'uncle', 'grandmother', 'mother]'], ['[granny', 'dad', 'grandad', 'polly]'], ['[son-in-law', 'nephew', 'great-grandson', 'cousin]'], ['[their', 'husband', 'cassie', 'lucetta]'], ['[ex-husband', 'boyfriend', 'mother-in-law', 'sister-in-law]'], ['[prince', 'princess', 'vadhana', 'monarch]'], ['[girl', 'maid', 'prostitute', 'divorcee]'], ['[granddaughter', 'grandson', 'brother-in-law', 'cousin]'], ['[prostitute', 'housemaid', 'housewife', 'waitress]'], ['[hohenlohe-langenburg', 'mrtha', 'vadhana', 'hrh]'], ['[granddaughter', 'grandson', 'great-granddaughter', 'niece]'], ['[granddaughters', 'stepchildren', 'grandchildren', 'stepdaughters]'], ['[half-sister', 'stepsister', 'stepmother', 'fianc]'], ['[stepmother', 'mother', 'ex-husband', 'fianc]'], ['[stepdaughter', 'daughter-in-law', 'half-sister', 'niece]'], ['[grandmother', 'husband', 'grandfather', 'niece]'], ['[schoolgirl', 'twelve-year-old', 'baby', 'tomboy]'], ['[half-brother', 'half-sister', 'stepbrother', 'husband]'], ['[siblings', 'sons', 'sister', 'daughters]'], ['[mum', 'boyfriend', 'ex-boyfriend', 'ex-husband]'], ['[husband', 'grandmother', 'stepfather', 'parents]'], ['[great-grandfather', 'mother', 'grandparents', 'great-grandmother]'], ['[polly', 'granny', 'sally', 'annabelle]'], ['[great-granddaughter', 'daughter', 'niece', 'great-grandson]'], ['[bridegroom', 'governess', 'wedding', 'bridesmaid]'], ['[ex-husband', 'boyfriend', 'mother-in-law', 'stepmother]'], ['[seondeok', 'princess', 'prince', 'monarch]'], ['[girl', 'prostitute', 'doll', 'nymphomaniac]'], ['[cousin', 'granddaughter', 'brother-in-law', 'stepson]'], ['[policewoman', 'housewife', 'waitress', 'stripper]'], ['[mrtha', 'hohenlohe-langenburg', 'vadhana', 'consort]'], ['[granddaughter', 'niece', 'half-sister', 'grandson]'], ['[granddaughters', 'siblings', 'stepdaughters', 'grandchildren]'], ['[stepmother', 'fianc', 'husband', 'half-sister]'], ['[mother', 'stepmother', 'ex-husband', 'fianc]'], ['[stepdaughter', 'stepmother', 'daughter-in-law', 'half-sister]'], ['[grandmother', 'mother', 'husband', 'grandfather]'], ['[schoolgirl', 'baby', 'twelve-year-old', 'tomboy]'], ['[stepbrother', 'half-brother', 'half-sister', 'husband]'], ['[siblings', 'sister', 'sons', 'aunts]'], ['[mum', 'ex-boyfriend', 'boyfriend', 'babysitter]'], ['[grandmother', 'husband', 'stepfather', 'parents]'], ['[mother', 'aunt', 'father', 'husband]'], ['[granny', 'mom', 'polly', 'babysitter]'], ['[niece', 'daughter', 'great-granddaughter', 'half-sister]'], ['[bridegroom', 'wedding', 'bridesmaid', 'governess]'], ['[marji', 'jae-min', 'herself', 'adrianna]'], ['[queen', 'prince', 'king-emperor', 'prajadhipok]'], ['[mustachioed', 'villager', 'red-haired', 'pondo]'], ['[son-in-law', 'grandson', 'cousin', 'great-uncle]'], ['[policemen', 'girlfriend', 'soldier', 'policewoman]'], ['[schleswig-holstein-sonderburg-glcksburg', 'hohenlohe-langenburg', 'saxe-meiningen', 'bourbon-parma]'], ['[eldest', 'grandson', 'great-grandson', 'granddaughter]'], ['[grandsons', 'granddaughters', 'grandchildren', 'nephews]'], ['[cousin', 'niece', 'stepdaughter', 'girlfriend]'], ['[girlfriend', 'fiancee', 'stepdaughter', 'step-father]'], ['[stepdaughter', 'granddaughter', 'daughter', 'cousin]'], ['[brother-in-law', 'great-uncle', 'father-in-law', 'son-in-law]'], ['[ten-year-old', '10-year-old', '13-year-old', '12-year-old]'], ['[nephew', 'half-brother', 'cousin', 'son-in-law]'], ['[brothers-in-law', 'nephews', 'grandsons', 'uncles]'], ['[ex-wife', 'mom', 'fiancee', 'granddad]'], ['[uncle', 'grandfather', 'brother-in-law', 'father-in-law]'], ['[great-uncle', 'grandson', 'uncle', 'nephew]'], ['[granddad', 'goober', 'babs', 'grandad]'], ['[nephew', 'granddaughter', 'son-in-law', 'eldest]'], ['[bridegroom', 'bride-to-be', 'mistress', 'wives]'], ['[wife-to-be', 'coriantumr', 'eldest', 'girlfriend]'], ['[their', 'footballing', 'wife-to-be', 's]'], ['[girl', 'housewife', 'maid', 'buxom]'], ['[granddaughter', 'sister-in-law', 'half-sister', 'great-aunt]'], ['[housewife', 'prostitute', 'housekeeper', 'housemaid]'], ['[fyodorovna', 'ludovika', 'consort', 'duchess]'], ['[granddaughter', 'niece', 'great-granddaughter', 'half-sister]'], ['[granddaughters', 'half-sisters', 'stepdaughters', 'grandchildren]'], ['[stepmother', 'step-sister', 'half-sister', 'mother-in-law]'], ['[mother', 'stepmother', 'grandmother', 'aunt]'], ['[niece', 'sister-in-law', 'half-sister', 'daughter-in-law]'], ['[grandmother', 'great-aunt', 'mother', 'mother-in-law]'], ['[schoolgirl', 'spunky', 'redheaded', 'sweet-natured]'], ['[sister-in-law', 'half-sister', 'niece', 'aunt]'], ['[daughters', 'siblings', 'granddaughters', 'sister]'], ['[mom', 'girlfriend', 'grandma', 'aunt]'], ['[grandmother', 'mother-in-law', 'aunt', 'stepfather]'], ['[mother', 'aunt', 'great-aunt', 'great-grandmother]'], ['[granny', 'polly', 'sally', 'dorrie]'], ['[niece', 'daughter', 'great-granddaughter', 'grand-daughter]'], ['[bridegroom', 'governess', 'housekeeper', 'bridesmaid]'], ['[her', 'nobody', 'marji', 'jae-min]'], ['[their', 'branwell', 'doting', 'hettie]'], ['[fianc', 'stepmother', 'aunt', 'sister-in-law]'], ['[cousin', 'granddaughter', 'half-sister', 'sister-in-law]'], ['[prostitute', 'schoolteacher', 'housewife', 'nurse]'], ['[hohenlohe-langenburg', 'bourbon-parma', 'ludovika', 'margravine]'], ['[granddaughter', 'great-granddaughter', 'niece', 'cousin]'], ['[granddaughters', 'stepchildren', 'stepdaughters', 'half-sisters]'], ['[sister-in-law', 'niece', 'step-sister', 'stepdaughter]'], ['[husband', 'stepmother', 'half-sister', 'mother-in-law]'], ['[stepdaughter', 'niece', 'sister-in-law', 'granddaughter]'], ['[niece', 'grandmother', 'mother', 'cousin]'], ['[schoolgirl', 'sixteen-year-old', '13-year-old', '16-year-old]'], ['[sister', 'cousin', 'half-brother', 'sister-in-law]'], ['[siblings', 'daughters', 'cousins', 'sons]'], ['[mum', 'mother', 'girlfriend', 'fiance]'], ['[parents', 'grandmother', 'stepfather', 'husband]'], ['[mother', 'great-grandmother', 'great-grandfather', 'grandparents]'], ['[polly', 'annabelle', 'tibby', 'babysits]'], ['[great-granddaughter', 'daughter', 'niece', 'cousin]'], ['[bride', 'governess', 'wedding', 'miscarry]'], ['[her', 'pregnant', 'marji', 'mother]'], ['[their', 'cissie', 'lucetta', 'branwell]'], ['[spouse', 'mother', 'mother-in-law', 'sister-in-law]'], ['[princess', 'berengaria', 'monarch', 'king-emperor]'], ['[prostitute', 'housewife', 'housemaid', 'waitress]'], ['[ludovika', 'hohenlohe-langenburg', 'duchess', 'feodora]'], ['[granddaughter', 'great-granddaughter', 'stepdaughter', 'half-sister]'], ['[granddaughters', 'half-sisters', 'daughter', 'stepdaughters]'], ['[half-sister', 'stepmother', 'stepdaughter', 'step-sister]'], ['[mother', 'mother-in-law', 'aunt', 'grandmother]'], ['[half-sister', 'sister-in-law', 'daughter-in-law', 'granddaughter]'], ['[grandmother', 'mother', 'sister-in-law', 'great-aunt]'], ['[schoolgirl', 'tomboy', 'spunky', 'sixteen-year-old]'], ['[half-sister', 'sister-in-law', 'aunt', 'daughter]'], ['[daughters', 'siblings', 'granddaughters', 'sister]'], ['[mum', 'girlfriend', 'aunt', 'fiance]'], ['[grandmother', 'aunt', 'stepmother', 'mother-in-law]'], ['[great-grandmother', 'aunt', 'mother', 'great-aunt]'], ['[polly', 'granny', 'dorrie', 'sally]'], ['[daughter', 'great-granddaughter', 'half-sister', 'grand-daughter]'], ['[bridegroom', 'governess', 'maid', 'bride-to-be]'], ['[marji', 'her', 'jae-min', 'cammie]'], ['[cissie', 'elanor', 'clarissa', 'step-sister]'], ['[fianc', 'stepmother', 'sister-in-law', 'aunt]'], ['[princess', 'regnant', 'berengaria', 'consort]'], ['[girl', 'maid', 'housewife', 'spinster]'], ['[hohenlohe-langenburg', 'hrh', 'bourbon-parma', 'vadhana]'], ['[granddaughter', 'great-granddaughter', 'grandson', 'niece]'], ['[granddaughters', 'grandsons', 'half-sisters', 'stepsons]'], ['[stepsister', 'step-sister', 'stepdaughter', 'step-father]'], ['[stepmother', 'stepdaughter', 'ex-husband', 'fiance]'], ['[half-sister', 'niece', 'step-son', 'sister-in-law]'], ['[niece', 'grandfather', 'nephew', 'grandmother]'], ['[schoolgirl', 'paperboy', 'spunky', '13-year-old]'], ['[sister', 'stepbrother', 'half-sister', 'brother-in-law]'], ['[siblings', 'sons', 'avett', 'dohring]'], ['[mum', 'ex-girlfriend', 'frannie', 'cloe]'], ['[stepfather', 'grandmother', 'step-father', 'fiance]'], ['[great-grandfather', 'great-grandmother', 'grandparents', 'aunt]'], ['[dorrie', 'granny', 'cloe', 'muffy]'], ['[great-granddaughter', 'great-grandson', 'niece', 'nephew]'], ['[bride', 'bride-to-be', 'bridesmaid', 'bridesmaids]'], ['[johnno', 'meggie', 'cammie', 'marji]'], ['[meggie', 'cissie', 'their', 'briony]'], ['[ex-husband', 'boyfriend', 'sister-in-law', 'stepdaughter]'], ['[vajiravudh', 'pmare', 'tupou', 'seondeok]'], ['[girl', 'blonde-haired', 'black-haired', 'mustachioed]'], ['[half-brother', 'granddaughter', 'grandson', 'brother-in-law]'], ['[granddaughter', 'niece', 'great-granddaughter', 'stepdaughter]'], ['[granddaughters', 'half-sisters', 'stepchildren', 'grandchildren]'], ['[stepmother', 'half-sister', 'sister-in-law', 'stepdaughter]'], ['[stepmother', 'mother-in-law', 'grandmother', 'aunt]'], ['[niece', 'sister-in-law', 'half-sister', 'daughter-in-law]'], ['[grandmother', 'niece', 'mother', 'sister-in-law]'], ['[schoolgirl', 'tomboy', 'spunky', '13-year-old]'], ['[sister-in-law', 'half-sister', 'niece', 'mother]'], ['[siblings', 'daughters', 'sister', 'granddaughters]'], ['[mum', 'girlfriend', 'grandma', 'fiance]'], ['[grandmother', 'aunt', 'mother-in-law', 'stepmother]'], ['[mother', 'aunt', 'great-grandmother', 'great-aunt]'], ['[polly', 'granny', 'sally', 'kitty]'], ['[niece', 'daughter', 'great-granddaughter', 'half-sister]'], ['[bridegroom', 'governess', 'maid', 'housekeeper]'], ['[irene', 'mother', 'hilda', 'kitty]'], ['[esther', 'irene', 'hettie', 'thelma]'], ['[stepmother', 'sister-in-law', 'fianc', 'mother]'], ['[consort', 'regnant', 'seondeok', 'laodice]'], ['[girl', 'housewife', 'maid', 'spinster]'], ['[sister-in-law', 'granddaughter', 'half-sister', 'stepdaughter]'], ['[housewife', 'prostitute', 'housemaid', 'waitress]'], ['[granddaughters', 'half-sisters', 'grandchildren', 'stepchildren]'], ['[stepsister', 'sister-in-law', 'half-sister', 'step-sister]'], ['[mother-in-law', 'sister-in-law', 'fiance', 'mother]'], ['[niece', 'sister-in-law', 'daughter-in-law', 'half-sister]'], ['[niece', 'sister-in-law', 'grandmother', 'stepmother]'], ['[schoolgirl', 'twelve-year-old', 'spunky', '13-year-old]'], ['[sister-in-law', 'half-sister', 'niece', 'half-brother]'], ['[daughters', 'sister', 'siblings', 'granddaughters]'], ['[mum', 'girlfriend', 'fiance', 'fiancee]'], ['[grandmother', 'stepmother', 'fiance', 'mother-in-law]'], ['[aunt', 'niece', 'great-grandmother', 'mother]'], ['[polly', 'granny', 'sally', 'maggie]'], ['[niece', 'great-granddaughter', 'half-sister', 'daughter-in-law]'], ['[bridegroom', 'bride-to-be', 'governess', 'bridesmaid]'], ['[marji', 'jae-min', 'hotch', 'hinako]'], ['[step-mother', 'their', 'step-sister', 'stepmother]'], ['[fianc', 'sister-in-law', 'stepmother', 'daughter-in-law]'], ['[princess', 'pmare', 'consort', 'king-emperor]'], ['[girl', 'divorcee', 'maid', 'nymphomaniac]'], ['[sister-in-law', 'granddaughter', 'cousin', 'brother-in-law]'], ['[prostitute', 'housemaid', 'housewife', 'waitress]'], ['[hohenlohe-langenburg', 'ludovika', 'bourbon-parma', 'vadhana]'], ['[half-sister', 'stepsister', 'step-sister', 'sister-in-law]'], ['[mother', 'mother-in-law', 'grandmother', 'fiance]'], ['[niece', 'daughter-in-law', 'half-sister', 'sister-in-law]'], ['[grandmother', 'niece', 'mother', 'sister-in-law]'], ['[schoolgirl', 'sixteen-year-old', '10-year-old', 'spunky]'], ['[half-sister', 'sister-in-law', 'half-brother', 'niece]'], ['[siblings', 'granddaughters', 'half-brothers', 'nephews]'], ['[mum', 'girlfriend', 'fiance', 'grandma]'], ['[grandmother', 'stepfather', 'parents', 'stepmother]'], ['[mother', 'great-grandmother', 'aunt', 'grandparents]'], ['[granny', 'elmyra', 'babysits', 'polly]'], ['[niece', 'daughter', 'great-granddaughter', 'great-grandson]'], ['[bridegroom', 'governess', 'wedding', 'bride-to-be]'], ['[marji', 'hinako', 'they', 'her]'], ['[their', 'cissie', 'elanor', 'zipporah]'], ['[mother-in-law', 'stepmother', 'sister-in-law', 'mother]'], ['[princess', 'regnant', 'monarch', 'consort]'], ['[girl', 'redheaded', 'divorcee', 'red-haired]'], ['[granddaughter', 'sister-in-law', 'cousin', 'half-sister]'], ['[prostitute', 'waitress', 'housewife', 'housemaid]'], ['[hohenlohe-langenburg', 'bourbon-parma', 'hrh', 'consort]'], ['[granddaughter', 'niece', 'great-granddaughter', 'half-sister]'], ['[mother-in-law', 'mother', 'grandmother', 'aunt]'], ['[niece', 'sister-in-law', 'stepmother', 'daughter-in-law]'], ['[grandmother', 'niece', 'great-aunt', 'grandfather]'], ['[spunky', 'schoolgirl', 'cute', 'tomboy]'], ['[sister-in-law', 'half-sister', 'half-brother', 'brother-in-law]'], ['[stepsisters', 'aunts', 'mabel', 'avett]'], ['[mum', 'grandma', 'mommy', 'frasier]'], ['[grandmother', 'aunt', 'parents', 'stepfather]'], ['[aunt', 'great-grandmother', 'great-aunt', 'great-grandfather]'], ['[granny', 'grandad', 'polly', 'dorrie]'], ['[niece', 'great-granddaughter', 'great-grandson', 'daughter]'], ['[bride', 'maid', 'bridesmaid', 'governess]'], ['[daulne', 'marji', 'jae-min', 'henchard]'], ['[my', 'their', 'your', 'murdstone]'], ['[mother-in-law', 'stepmother', 'sister-in-law', 'aunt]'], ['[king-emperor', 'monarch', 'princess', 'seondeok]'], ['[girl', 'red-haired', 'stranger', 'maid]'], ['[sister-in-law', 'granddaughter', 'brother-in-law', 'cousin]'], ['[prostitute', 'housemaid', 'housewife', 'shoplifter]'], ['[hrh', 'vadhana', 'duchess', 'hohenlohe-langenburg]'], ['[granddaughter', 'niece', 'great-granddaughter', 'stepdaughter]'], ['[granddaughters', 'half-sisters', 'stepchildren', 'grandchildren]'], ['[niece', 'sister-in-law', 'half-sister', 'daughter-in-law]'], ['[niece', 'grandmother', 'sister-in-law', 'grandfather]'], ['[schoolgirl', 'twelve-year-old', 'red-haired', 'spunky]'], ['[sister', 'half-sister', 'sister-in-law', 'stepbrother]'], ['[sons', 'brothers-in-law', 'daughters', 'nephews]'], ['[mum', 'grandma', 'fiance', 'girlfriend]'], ['[grandmother', 'aunt', 'mother-in-law', 'fiance]'], ['[aunt', 'great-grandmother', 'uncle', 'great-grandfather]'], ['[granny', 'elmyra', 'dorrie', 'babs]'], ['[niece', 'great-grandson', 'great-granddaughter', 'daughter]'], ['[bride', 'bride-to-be', 'stepsisters', 'hippodamia]'], ['[vakama', 'they', 'azula', 'cadderly]'], ['[their', 'madri', 'belgarath', 'disowning]'], ['[sister-in-law', 'fianc', 'daughter-in-law', 'aunt]'], ['[prajadhipok', 'vajiravudh', 'king-emperor', 'yeongjo]'], ['[girl', 'sorceress', 'beggar', 'miser]'], ['[grandson', 'son-in-law', 'half-brother', 'sister-in-law]'], ['[prostitute', 'housemaid', 'gunman', 'waitress]'], ['[consort', 'vadhana', 'hohenlohe-langenburg', 'savang]'], ['[granddaughter', 'grandson', 'niece', 'great-granddaughter]'], ['[granddaughters', 'grandsons', 'grandchildren', 'half-sisters]'], ['[half-sister', 'sister-in-law', 'step-mother', 'step-sister]'], ['[grandfather', 'grandmother', 'niece', 'father]'], ['[schoolgirl', '13-year-old', 'paperboy', 'thirteen-year-old]'], ['[half-brother', 'sister-in-law', 'cousin', 'brother-in-law]'], ['[sons', 'siblings', 'daughters', 'brothers-in-law]'], ['[mom', 'granddad', 'girlfriend', 'grandma]'], ['[grandmother', 'stepfather', 'parents', 'grandfather]'], ['[great-grandfather', 'mother', 'uncle', 'great-grandmother]'], ['[granny', 'polly', 'grandad', 'granddad]'], ['[daughter', 'niece', 'great-granddaughter', 'great-grandson]'], ['[bridegroom', 'bride-to-be', 'governess', 'maid]'], ['[jae-min', 'hotch', 'karou', 'layfon]'], ['[their', 'cissie', 'my', 'potiphar]'], ['[mother-in-law', 'sister-in-law', 'stepmother', 'mother]'], ['[ex-king', 'vajiravudh', 'mswati', 'king-emperor]'], ['[girl', 'villager', 'woodcutter', 'red-haired]'], ['[cousin', 'brother-in-law', 'granddaughter', 'sister-in-law]'], ['[gunman', 'prostitute', 'shopkeeper', 'waitress]'], ['[hohenlohe-langenburg', 'bourbon-parma', 'saxe-coburg-saalfeld', 'schleswig-holstein-sonderburg-glcksburg]'], ['[granddaughter', 'niece', 'grandson', 'great-granddaughter]'], ['[granddaughters', 'grandsons', 'stepdaughters', 'grandchildren]'], ['[step-sister', 'stepmother', 'sister-in-law', 'half-sister]'], ['[mother', 'mother-in-law', 'ex-wife', 'grandmother]'], ['[schoolgirl', 'spunky', 'woman', 'tomboy]'], ['[half-sister', 'sister-in-law', 'stepsister', 'stepmother]'], ['[siblings', 'aunts', 'daughters', 'half-sisters]'], ['[mom', 'girlfriend', 'nanny', 'grandma]'], ['[grandmother', 'mother-in-law', 'stepmother', 'stepfather]'], ['[great-grandmother', 'mother', 'great-aunt', 'mother-in-law]'], ['[polly', 'dorrie', 'granny', 'babs]'], ['[niece', 'daughter', 'great-granddaughter', 'half-sister]'], ['[bride', 'governess', 'bridesmaid', 'maid]'], ['[marji', 'adrianna', 'hippolyta', 'her]'], ['[dorrie', 'their', 'branwell', 'cissie]'], ['[fianc', 'stepmother', 'sister-in-law', 'ex-husband]'], ['[princess', 'regnant', 'sirikit', 'seondeok]'], ['[girl', 'maid', 'housewife', 'spinster]'], ['[sister-in-law', 'half-sister', 'granddaughter', 'stepdaughter]'], ['[prostitute', 'housewife', 'housemaid', 'housekeeper]'], ['[ludovika', 'duchess', 'feodorovna', 'frederika]'], ['[granddaughter', 'niece', 'half-sister', 'great-granddaughter]'], ['[granddaughters', 'half-sisters', 'stepchildren', 'grandchildren]'], ['[stepmother', 'half-sister', 'sister-in-law', 'mother-in-law]'], ['[mother-in-law', 'mother', 'grandmother', 'stepsister]'], ['[half-sister', 'stepmother', 'sister-in-law', 'stepsister]'], ['[exceedingly', 'obvious', 'extremely', 'evident]'], ['[levelheaded', 'level-headed', 'courteous', 'considerate]'], ['[kind-hearted', 'mannered', 'well-mannered', 'good-natured]'], ['[surprisingly', 're-write', 'comprehensive', 'terribly]'], ['[inefficient', 'robust', 'cost-efficient', 'resilient]'], ['[evidently', 'unlucky', 'surprisingly', 'quite]'], ['[very', 'webhosting', 'non-drafted', 'sufficiently]'], ['[infuriated', 'terribly', 'incensed', 'outraged]'], ['[glad', 'thankful', 'happier', 'quite]'], ['[unequivocal', 'terribly', 'nonetheless', 'prompt]'], ['[extremely', 'infrequently', 'inordinately', 'sporadic]'], ['[terribly', 'surprisingly', 'pretty', 'shockingly]'], ['[quite', 'extremely', 'fairly', 'terribly]'], ['[imho', 'indeed', 'unambiguous', 'quite]'], ['[occasionally', 'extremely', 'exceedingly', 'sporadic]'], ['[too', 'very', 'fairly', 'sufficiently]'], ['[imprecise', 'succinct', 'remarkably', 'concise]'], ['[professionally', 'semi-pro', 'amateur', 'ex-professional]'], ['[fairly', 'terribly', 'surprisingly', 'quite]'], ['[cheerful', 'calm', 'unassuming', 'sober]'], ['[relatively', 'slow', 'spurt', 'fairly]'], ['[very', 'exceedingly', 'fairly', 'quite]'], ['[unwilling', 'unable', 'loath', 'willing]'], ['[reasonably', 'safer', 'fairly', 'terribly]'], ['[terribly', 'life-threatening', 'indeed', 'regrettably]'], ['[fast', 'remarkably', 'terribly', 'painfully]'], ['[premature', 'terribly', 'heatstroke', 'asphyxiation]'], ['[remarkably', 'terribly', 'very', 'fairly]'], ['[fairly', 'very', 'quite', 'strikingly]'], ['[regrettable', 'unfortunately', 'exceedingly', 'horrendously]'], ['[quite', 'problematically', 'terribly', 'horrendously]'], ['[quiet', 'sober', 'quietly', 'cool]'], ['[kind-hearted', 'soft-spoken', 'fun-loving', 'sweet-natured]'], ['[evidently', 'essentially', 'fully', 'obviously]'], ['[robust', 'efficiently', 'user-friendly', 'inefficient]'], ['[supposedly', 'obviously', 'actually', 'luckily]'], ['[webhosting', 'non-drafted', 'gratis', 'supposedly]'], ['[distraught', 'secretly', 'furiously', 'humiliated]'], ['[glad', 'sadly', 'loving', 'lonely]'], ['[supposedly', 'obviously', 'already', 'actually]'], ['[evidently', 'unfortunately', 'obviously', 'mostly]'], ['[luckily', 'actually', 'guys', 'obviously]'], ['[highly', 'historically', 'quite', 'terribly]'], ['[evidently', 'unfortunately', 'anyway', 'certainly]'], ['[infrequent', 'mostly', 'infrequently', 'regularly]'], ['[presumably', 'possibly', 'actually', 'anyway]'], ['[evidently', 'actually', 'precisely', 'supposedly]'], ['[semi-professional', 'non-professional', 'skateboarder', 'amateur]']] \n",
      "\n"
     ]
    },
    {
     "ename": "IndexError",
     "evalue": "list index out of range",
     "output_type": "error",
     "traceback": [
      "\u001b[0;31m---------------------------------------------------------------------------\u001b[0m",
      "\u001b[0;31mIndexError\u001b[0m                                Traceback (most recent call last)",
      "\u001b[0;32m<ipython-input-118-f0f9a9b4011f>\u001b[0m in \u001b[0;36m<module>\u001b[0;34m()\u001b[0m\n\u001b[1;32m      6\u001b[0m        \u001b[0maccurate_answer\u001b[0m \u001b[0;34m=\u001b[0m \u001b[0mrow\u001b[0m\u001b[0;34m[\u001b[0m\u001b[0;36m3\u001b[0m\u001b[0;34m]\u001b[0m\u001b[0;34m\u001b[0m\u001b[0m\n\u001b[1;32m      7\u001b[0m        \u001b[0mprint\u001b[0m\u001b[0;34m(\u001b[0m\u001b[0maccurate_answer\u001b[0m\u001b[0;34m,\u001b[0m \u001b[0mpossible_answers\u001b[0m\u001b[0;34m,\u001b[0m \u001b[0;34m'\\n'\u001b[0m\u001b[0;34m)\u001b[0m\u001b[0;34m\u001b[0m\u001b[0m\n\u001b[0;32m----> 8\u001b[0;31m        \u001b[0;32mif\u001b[0m \u001b[0maccurate_answer\u001b[0m \u001b[0;32min\u001b[0m \u001b[0mpossible_answers\u001b[0m\u001b[0;34m[\u001b[0m\u001b[0mindex\u001b[0m\u001b[0;34m]\u001b[0m\u001b[0;34m:\u001b[0m\u001b[0;34m\u001b[0m\u001b[0m\n\u001b[0m\u001b[1;32m      9\u001b[0m            \u001b[0mcorrect_words\u001b[0m \u001b[0;34m+=\u001b[0m \u001b[0;36m1\u001b[0m\u001b[0;34m\u001b[0m\u001b[0m\n\u001b[1;32m     10\u001b[0m \u001b[0;34m\u001b[0m\u001b[0m\n",
      "\u001b[0;31mIndexError\u001b[0m: list index out of range"
     ]
    }
   ],
   "source": [
    " # ASK how many words for MRR\n",
    "    \n",
    "\n",
    "                \n",
    "\n",
    "    \n"
   ]
  },
  {
   "cell_type": "code",
   "execution_count": 103,
   "metadata": {},
   "outputs": [
    {
     "data": {
      "text/plain": [
       "0"
      ]
     },
     "execution_count": 103,
     "metadata": {},
     "output_type": "execute_result"
    }
   ],
   "source": [
    "correct_words"
   ]
  },
  {
   "cell_type": "code",
   "execution_count": null,
   "metadata": {
    "collapsed": true
   },
   "outputs": [],
   "source": []
  }
 ],
 "metadata": {
  "kernelspec": {
   "display_name": "Python 3",
   "language": "python",
   "name": "python3"
  },
  "language_info": {
   "codemirror_mode": {
    "name": "ipython",
    "version": 3
   },
   "file_extension": ".py",
   "mimetype": "text/x-python",
   "name": "python",
   "nbconvert_exporter": "python",
   "pygments_lexer": "ipython3",
   "version": "3.5.3"
  }
 },
 "nbformat": 4,
 "nbformat_minor": 2
}
