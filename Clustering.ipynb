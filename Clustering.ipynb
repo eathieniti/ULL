{
 "cells": [
  {
   "cell_type": "markdown",
   "metadata": {},
   "source": [
    "# K-Means"
   ]
  },
  {
   "cell_type": "markdown",
   "metadata": {},
   "source": [
    "The K-Means algorithm is performed and a range of csv files with the clusters are stored for all three techniques. A comparison of the results can be found in the report."
   ]
  },
  {
   "cell_type": "markdown",
   "metadata": {},
   "source": [
    "### Import all packages needed:"
   ]
  },
  {
   "cell_type": "code",
   "execution_count": 1,
   "metadata": {
    "collapsed": true
   },
   "outputs": [],
   "source": [
    "import pandas as pd\n",
    "import numpy as np\n",
    "import pickle\n",
    "from itertools import islice\n",
    "from sklearn.cluster import KMeans\n",
    "import csv"
   ]
  },
  {
   "cell_type": "markdown",
   "metadata": {},
   "source": [
    "### The three versions of  embeddings to be clustered, stored in dataframes:"
   ]
  },
  {
   "cell_type": "code",
   "execution_count": 2,
   "metadata": {
    "collapsed": true
   },
   "outputs": [],
   "source": [
    "df_deps = pd.read_table('./data/deps.words.bz2', sep=' ', header=None)\n",
    "df_bow2 = pd.read_table('./data/bow2.words.bz2', sep=' ', header=None)\n",
    "df_bow5 = pd.read_table('./data/bow5.words.bz2', sep=' ', header=None)"
   ]
  },
  {
   "cell_type": "markdown",
   "metadata": {},
   "source": [
    "### Below the three variables that can be changed to compare against different embeddings and to change the amount of clusters:"
   ]
  },
  {
   "cell_type": "code",
   "execution_count": 64,
   "metadata": {
    "collapsed": true
   },
   "outputs": [],
   "source": [
    "chosen_df = 'df_deps' # or 'df_bow2' or 'df_bow5'\n",
    "df = df_deps # or df_bow2 or df_bow5\n",
    "kclusters = 100 #the amount of clusters. csv's are available on github for 100, 200 ???????????????????? clusters."
   ]
  },
  {
   "cell_type": "markdown",
   "metadata": {},
   "source": [
    "### Create a dictionary of all words and their vectors:"
   ]
  },
  {
   "cell_type": "code",
   "execution_count": 65,
   "metadata": {
    "collapsed": true
   },
   "outputs": [],
   "source": [
    "all_words = {}\n",
    "\n",
    "for index, row in df.iterrows():\n",
    "    all_words[row[0]] = row[1:]"
   ]
  },
  {
   "cell_type": "markdown",
   "metadata": {},
   "source": [
    "### Import the 2000 sorted nouns and store it in a dataframe:"
   ]
  },
  {
   "cell_type": "code",
   "execution_count": 35,
   "metadata": {
    "collapsed": true
   },
   "outputs": [],
   "source": [
    "df_nouns = pd.read_table('./data/2000_nouns_sorted.txt', header=None)\n",
    "df_nouns.columns = ['Nouns']"
   ]
  },
  {
   "cell_type": "markdown",
   "metadata": {},
   "source": [
    "### Make an array of the vectors of nouns so it can be used in the K-Mean algorithm:"
   ]
  },
  {
   "cell_type": "code",
   "execution_count": 66,
   "metadata": {
    "collapsed": true
   },
   "outputs": [],
   "source": [
    "vecs = []\n",
    "keys = []\n",
    "    \n",
    "for noun in df_nouns['Nouns']:\n",
    "    noun_s = noun.strip()\n",
    "    if noun_s in all_words.keys():\n",
    "        keys.append(noun_s)\n",
    "        vec = all_words[noun_s]\n",
    "        vecs.append(vec)\n",
    "        \n",
    "array = np.asarray(vecs)"
   ]
  },
  {
   "cell_type": "markdown",
   "metadata": {},
   "source": [
    "### Perform the K-Means algorithm:"
   ]
  },
  {
   "cell_type": "code",
   "execution_count": 67,
   "metadata": {
    "collapsed": true
   },
   "outputs": [],
   "source": [
    "kmeans= KMeans(n_clusters=kclusters, random_state=0) \n",
    "kmeans.fit(array)\n",
    "labels = kmeans.predict(array)"
   ]
  },
  {
   "cell_type": "markdown",
   "metadata": {},
   "source": [
    "### Make clusters with the words stored in it:"
   ]
  },
  {
   "cell_type": "code",
   "execution_count": 68,
   "metadata": {
    "collapsed": true
   },
   "outputs": [],
   "source": [
    "clusters = {}\n",
    "n=0\n",
    "for item in labels:\n",
    "    if item in clusters:\n",
    "        clusters[item].append(keys[n])\n",
    "    else:\n",
    "        clusters[item] = [keys[n]]\n",
    "    n += 1"
   ]
  },
  {
   "cell_type": "markdown",
   "metadata": {},
   "source": [
    "### Store the clusters in a csv file:"
   ]
  },
  {
   "cell_type": "code",
   "execution_count": 69,
   "metadata": {},
   "outputs": [
    {
     "name": "stdout",
     "output_type": "stream",
     "text": [
      "df_deps\n"
     ]
    }
   ],
   "source": [
    "if chosen_df == 'df_deps':\n",
    "    print('df_deps')\n",
    "    with open('DEPS'+'_'+ str(kclusters) +' .csv', 'w') as f:\n",
    "        for i in clusters: \n",
    "            f.write(str(clusters[i])+'\\n')\n",
    "if chosen_df == 'df_bow2':\n",
    "    print('df_bow2')\n",
    "    with open('BoW2'+'_'+ str(kclusters) +' .csv', 'w') as f:\n",
    "        for i in clusters: \n",
    "            f.write(str(clusters[i])+'\\n')\n",
    "if chosen_df == 'df_bow5':\n",
    "    print('df_bow5')\n",
    "    with open('BoW5'+'_'+ str(kclusters) +' .csv', 'w') as f:\n",
    "        for i in clusters: \n",
    "            f.write(str(clusters[i])+'\\n')"
   ]
  }
 ],
 "metadata": {
  "kernelspec": {
   "display_name": "Python 3",
   "language": "python",
   "name": "python3"
  },
  "language_info": {
   "codemirror_mode": {
    "name": "ipython",
    "version": 3
   },
   "file_extension": ".py",
   "mimetype": "text/x-python",
   "name": "python",
   "nbconvert_exporter": "python",
   "pygments_lexer": "ipython3",
   "version": "3.6.1"
  }
 },
 "nbformat": 4,
 "nbformat_minor": 2
}
