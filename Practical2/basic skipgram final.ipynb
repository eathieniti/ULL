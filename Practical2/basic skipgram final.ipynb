{
 "cells": [
  {
   "cell_type": "code",
   "execution_count": 115,
   "metadata": {
    "collapsed": true
   },
   "outputs": [],
   "source": [
    "import numpy as np\n",
    "import torch\n",
    "import torch\n",
    "from torch.autograd import Variable\n",
    "import numpy as np\n",
    "import torch.functional as F\n",
    "import torch.nn.functional as F\n",
    "import os"
   ]
  },
  {
   "cell_type": "code",
   "execution_count": 116,
   "metadata": {},
   "outputs": [],
   "source": [
    "\n",
    "import sys\n",
    "import numpy as np\n",
    "# add gensim source code fro this path\n",
    "sys.path.insert(0, \"../../../\")\n",
    "sys.path.insert(0, \"../../gensim/\")\n",
    "\n",
    "# import modules & set up logging\n",
    "import gensim, logging\n",
    "\n",
    "logging.basicConfig(format='%(asctime)s : %(levelname)s : %(message)s', level=logging.INFO)\n",
    "                \n",
    "                "
   ]
  },
  {
   "cell_type": "markdown",
   "metadata": {},
   "source": [
    "## Import the training data from file"
   ]
  },
  {
   "cell_type": "code",
   "execution_count": 5,
   "metadata": {
    "collapsed": true
   },
   "outputs": [],
   "source": [
    "from smart_open import smart_open\n",
    "class MySentences(object):\n",
    "    def __init__(self, dirname):\n",
    "        self.dirname = dirname\n",
    " \n",
    "    def __iter__(self):\n",
    "        for fname in os.listdir(self.dirname):\n",
    "            for line in smart_open(os.path.join(self.dirname, fname), 'r'):\n",
    "                yield line.split()"
   ]
  },
  {
   "cell_type": "code",
   "execution_count": 6,
   "metadata": {},
   "outputs": [
    {
     "name": "stdout",
     "output_type": "stream",
     "text": [
      "[['2', '.'], ['2', '.'], ['oh', ',', 'oh', '!'], ['oh', ',', 'oh', '!'], ['oh', ',', 'oh', '!'], ['let', 'us', 'remember', ',', 'Mr.', 'Speaker', ',', 'that', 'these', 'segments', 'of', 'our', 'society', 'form', 'the', 'backbone', 'of', 'our', 'economy', '.'], ['hear', ',', 'hear', '!'], ['hear', ',', 'hear', '!'], ['Mr.', 'Speaker', ',', 'my', 'question', 'is', 'directed', 'to', 'the', 'Minister', 'of', 'Transport', '.'], ['both', 'have', 'many', 'years', 'experience', 'in', 'the', 'manufacture', 'and', 'distribution', 'of', 'forest', 'products', '.'], ['1', '.'], ['another', 'point', 'I', 'should', 'like', 'to', 'discuss', 'is', 'the', 'right', 'of', 'the', 'supplier', 'to', 'choose', 'his', 'customers', 'as', 'he', 'sees', 'fit', '.'], ['i', 'am', 'getting', 'sick', 'and', 'tired', 'of', 'ministers', 'who', 'seem', 'to', 'have', 'some', 'hang', '-', 'up', 'with', 'regard', 'to', 'the', 'collective', 'bargaining', 'process', '.'], ['there', 'is', 'just', 'one', 'specific', 'item', 'more', 'that', 'I', 'would', 'like', 'to', 'comment', 'upon', 'and', 'then', 'I', 'will', 'sit', 'down', ',', 'Mr.', 'Speaker', '.'], ['order', ',', 'please', '.'], ['3', '.'], ['i', 'can', 'refer', 'him', 'to', 'no', 'better', 'authority', 'on', 'the', 'subject', 'than', 'the', 'hon.', 'member', 'for', 'Don', 'Valley', ',', 'not', 'just', 'myself', '.'], ['it', 'is', 'quite', 'understandable', '.'], ['in', 'addition', ',', 'it', 'could', 'become', 'a', 'serious', 'threat', 'to', 'Confederation', 'and', 'national', 'unity', '.'], ['in', 'view', 'of', 'this', ',', 'we', 'deemed', 'it', 'inadvisable', 'to', 'attend', 'the', 'meeting', 'and', 'so', 'informed', 'COJO', '.'], ['Mr.', 'Speaker', ',', 'the', 'minister', 'suggested', 'that', 'a', 'greater', 'building', 'program', 'might', 'lead', 'to', 'inflationary', 'pressure', '.'], ['i', 'disagree', 'with', 'the', 'argument', 'advanced', 'by', 'the', 'minister', '.'], ['there', 'is', 'a', 'lot', 'to', 'be', 'said', 'on', 'both', 'sides', 'of', 'that', 'question', '.'], ['order', '.'], ['Mr.', 'Speaker', ',', 'as', 'I', 'indicated', 'to', 'the', 'Leader', 'of', 'the', 'Opposition', ',', 'I', 'would', 'hope', 'to', 'make', 'an', 'announcement', 'on', 'this', 'question', 'on', 'November', '1', '.'], ['quite', 'right', '.'], ['it', 'does', 'not', 'bring', 'anybody', 'closer', 'to', 'rehabilitation', 'to', 'isolate', 'him', 'from', 'the', 'public', '.'], ['he', 'left', 'a', 'wife', 'and', 'family', '.'], ['on', 'a', 'point', 'of', 'order', ',', 'Mr.', 'Chairman', ',', 'I', 'am', 'sure', 'the', 'hon.', 'member', 'for', 'Verdun', 'would', 'not', 'have', 'denigrated', 'my', 'position', '.'], ['can', 'the', 'insurance', 'industry', 'in', 'turn', 'act', 'as', 'an', 'airline', '?'], ['i', 'say', 'this', 'to', 'you', ',', 'Mr.', 'Speaker', ':', 'the', 'people', 'of', 'Toronto', 'know', 'the', 'government', 'has', 'no', 'answers', '.'], ['their', 'evidence', 'on', 'the', 'state', 'of', 'each', 'stock', 'was', 'taken', 'fully', 'into', 'account', '.'], ['thank', 'you', 'very', 'much', ',', 'Mr.', 'Speaker', ',', 'and', 'I', 'thank', 'hon.', 'members', 'for', 'allowing', 'me', 'the', 'privilege', 'to', 'continue', '.'], ['i', 'urge', 'this', 'intensive', 'study', ',', 'Mr.', 'Speaker', ',', 'for', 'we', 'know', 'so', 'little', 'about', 'the', 'reasons', 'that', 'turn', 'people', 'into', 'criminals', '.'], ['the', 'government', 'must', 'assist', 'its', 'own', 'employees', 'who', 'may', 'need', 'another', 'language', 'to', 'advance', 'their', 'careers', '.'], ['i', 'do', 'not', 'have', 'any', 'qualms', 'about', 'the', 'type', 'of', 'language', 'I', 'use', '.'], ['motion', 'agreed', 'to', '.'], ['Mr.', 'Speaker', ',', 'no', 'decision', 'has', 'been', 'reached', 'as', 'yet', 'but', 'I', 'should', 'think', 'so', '.'], ['the', 'matter', 'of', 'trade', 'relations', 'with', 'our', 'European', 'counterparts', 'should', 'be', 'very', 'seriously', 'considered', '.'], ['what', 'we', 'should', 'be', 'concerned', 'with', 'in', 'this', 'country', 'is', 'the', 'situation', 'when', 'these', 'animals', 'are', 'shipped', 'out', 'of', 'Canada', 'for', 'this', 'purpose', '.'], ['they', 'have', 'already', 'given', 'an', 'indication', 'of', 'the', 'branches', 'they', 'intend', 'to', 'close', '.'], ['this', 'minister', 'watched', 'while', 'half', 'the', 'proceeds', 'and', 'profits', 'of', 'the', 'Canadian', 'agriculture', 'industry', 'were', 'swept', 'away', 'in', 'a', 'budget', 'speech', '.'], ['Mr.', 'Chairman', ',', 'absolutely', 'none', '.'], ['we', 'are', 'analysing', 'the', 'report', 'now', 'and', 'I', 'hope', 'to', 'have', 'some', 'information', 'for', 'the', 'House', 'in', 'the', 'near', 'future', '.'], ['hear', ',', 'hear', '!'], ['hear', ',', 'hear', '!'], ['i', 'would', 'therefore', 'move', ',', 'seconded', 'by', 'the', 'hon.', 'member', 'for', 'Dartmouth', '-', 'Halifax', 'East', '(', 'Mr.', 'Forrestall', ')', ':'], ['when', 'we', 'realize', 'the', 'extent', 'of', 'the', 'ravages', 'caused', 'by', 'organized', 'crime', 'in', 'our', 'country', ',', 'we', 'must', 'consider', 'deep', '-', 'rooted', 'solutions', '.'], ['but', 'oh', 'how', 'their', 'popularity', 'soared', 'and', 'they', 'coasted', 'through', 'on', 'that', '.'], ['(', '2', ')', 'A', 'committee', 'is', 'bound', 'by', ',', 'and', 'not', 'at', 'liberty', 'to', 'depart', 'from', ',', 'the', 'order', 'of', 'reference', '.'], ['there', 'is', 'one', 'other', 'point', 'I', 'should', 'like', 'to', 'make', ',', 'and', 'I', 'do', 'so', 'as', 'I', 'feel', 'this', 'is', 'a', 'general', 'debate', '.'], ['in', 'December', 'there', 'was', 'an', 'announcement', 'that', 'British', 'Columbia', 'would', 'be', 'withdrawing', 'from', 'CEMA', '.'], ['they', 'have', 'also', 'given', 'rise', 'to', 'considerable', 'opposition', 'by', 'hon.', 'members', 'in', 'all', 'parties', 'on', 'this', 'side', 'of', 'the', 'House', '.'], ['those', 'are', 'not', 'the', 'lines', 'that', 'one', 'should', 'be', 'concerned', 'about', 'at', 'this', 'time', '.'], ['i', 'have', 'allowed', 'the', 'hon.', 'member', 'two', 'supplementaries', 'and', 'in', 'fairness', 'I', 'think', 'we', 'should', 'go', 'to', 'some', 'other', 'hon.', 'members', '.'], ['i', 'think', 'that', 'is', 'good', '.'], ['i', 'think', 'that', 'the', 'time', 'taken', 'in', 'handling', 'routine', 'applications', 'for', 'changes', 'of', 'facilities', 'along', 'a', 'pipeline', ',', 'for', 'example', ',', 'has', 'been', 'too', 'long', '.'], ['he', 'is', 'the', 'minister', 'who', 'is', 'responsible', 'for', 'science', 'and', 'technology', ',', 'and', 'he', 'does', 'not', 'know', '.'], ['federal', 'government', 'carpenters', 'get', '$', '6.42', 'in', 'Toronto', 'and', '$', '5.23', 'in', 'Halifax', 'and', 'Moncton', '.'], ['for', 'the', 'record', 'I', 'would', 'like', 'to', 'refer', 'to', 'a', 'press', 'release', 'which', 'followed', 'the', 'federal', '-', 'provincial', 'conference', 'of', 'attorneys', 'general', 'in', 'October', ',', '1975', '.'], ['Mr.', 'Speaker', ',', 'I', 'rise', 'on', 'a', 'point', 'of', 'order', '.'], ['i', 'think', 'the', 'railroad', 'term', 'is', '«', 'demand', 'loading', '»', '.'], ['i', 'will', 'come', 'to', 'the', 'cost', 'of', 'boats', 'these', 'days', '.'], ['in', 'most', 'provinces', ',', 'general', 'noise', 'regulations', 'have', 'been', 'implemented', ',', 'the', 'main', 'principle', 'of', 'which', 'is', 'as', 'follows', ':'], ['agreed', '.'], ['after', 'all', ',', 'energy', 'is', 'used', 'by', 'people', 'throughout', 'the', 'nation', ',', 'and', 'the', 'government', 'might', 'well', 'consider', 'an', 'approach', 'using', 'the', 'incentive', 'to', 'which', 'I', 'have', 'referred', '.'], ['6', '.'], ['i', 'will', 'be', 'glad', ',', 'when', 'we', 'have', 'time', ',', 'to', 'sit', 'down', 'with', 'hon.', 'members', 'and', 'work', 'this', 'matter', 'out', 'on', 'a', 'productive', 'and', 'prospective', 'basis', '.'], ['will', 'the', 'minister', 'take', 'action', 'to', 'clear', 'up', 'any', 'difficulties', 'because', 'of', 'the', 'absolute', 'need', 'for', 'placing', 'the', 'orders', 'now', ',', 'and', 'not', 'some', 'months', 'from', 'now', '?'], ['it', 'will', 'spur', 'the', 'construction', 'of', 'new', 'fishing', 'boats', 'and', 'cause', 'new', 'processing', 'facilities', 'to', 'be', 'built', '.'], ['there', 'are', 'many', 'things', 'I', 'could', 'say', 'about', 'Bill', 'C', '-', '19', '.'], ['i', 'am', 'going', 'to', 'say', 'something', 'a', 'bit', 'later', 'on', 'about', 'that', 'because', 'I', 'think', 'it', 'is', 'essential', 'to', 'the', 'kind', 'of', 'debate', 'we', 'are', 'having', 'this', 'afternoon', '.'], ['companies', 'find', 'that', 'the', 'rules', 'are', 'complicated', ',', 'cumbersome', 'and', 'changing', 'all', 'the', 'time', '.'], ['Mr.', 'Speaker', ',', 'my', 'question', 'is', 'for', 'the', 'minister', 'in', 'charge', 'of', 'the', 'Canadian', 'Wheat', 'Board', '.'], ['i', 'understand', 'that', 'a', 'rate', 'of', 'at', 'least', '70', 'per', 'cent', 'per', 'annum', 'is', 'being', 'contemplated', '.'], ['it', 'is', 'our', 'hope', 'to', 'make', 'a', 'decision', 'this', 'week', '.'], ['we', 'accept', 'your', 'view', '.'], ['they', 'fought', 'an', 'election', 'on', 'that', 'position', '.'], ['12', '.'], ['Mr.', 'Speaker', ',', 'I', 'say', 'to', 'that', ':', 'what', 'a', 'cruel', 'hoax', ',', 'because', 'a', 'hoax', 'it', 'is', '.'], ['Mr.', 'Speaker', ',', 'we', 'will', 'try', 'to', 'stick', 'to', 'that', 'suggestion', '.'], ['1', '.', '(', 'a', ')', '$', '98,355', '.', '(', 'b', ')', 'They', 'are', 'distributed', 'through', 'major', 'post', 'offices', 'across', 'the', 'country', '.'], ['crime', 'is', 'a', 'national', 'problem', 'according', 'to', 'our', 'constitution', ',', 'while', 'law', 'enforcement', 'is', 'a', 'provincial', 'and', 'local', 'responsibility', '.'], ['i', 'submit', 'that', 'what', 'I', 'say', 'is', 'pertinent', 'to', 'the', 'bill', ',', 'to', 'moneys', 'being', 'spent', 'on', 'medicare', 'and', 'the', 'manner', 'in', 'which', 'they', 'are', 'spent', '.'], ['a', 'few', 'words', 'about', 'this', 'disease', 'might', 'help', 'to', 'put', 'things', 'into', 'perspective', '.'], ['fortunately', 'they', 'are', 'fewer', 'this', 'year', ',', 'more', 'reasonable', 'and', 'responsible', ',', 'more', 'conciliatory', '.'], ['this', 'bill', 'has', 'been', 'before', 'the', 'House', 'for', 'more', 'than', 'a', 'year', '.'], ['retired', 'December', '30', ',', '1975', 'following', 'completion', 'of', '34', 'years', 'of', 'public', 'service', '.'], ['passage', 'of', 'the', 'hon.', 'member', \"'s\", 'motion', 'would', 'mean', 'that', 'the', 'content', 'requirements', 'are', 'spelled', 'out', 'in', 'the', 'statute', 'and', 'we', 'could', 'debate', 'them', '.'], ['this', 'does', 'not', 'necessarily', 'indicate', 'non', '-', 'compliance', 'on', 'the', 'part', 'of', 'the', 'parties', '.'], ['i', 'was', 'not', 'asking', 'for', 'a', 'detailed', 'explanation', 'as', 'to', 'what', 'he', 'was', 'doing', '.'], ['how', 'can', 'so', 'much', 'be', 'asked', ',', 'on', 'the', 'one', 'hand', ',', 'and', 'so', 'little', 'answered', 'on', 'the', 'other', '?'], ['as', 'a', 'result', ',', 'perhaps', 'he', 'will', 'bring', 'in', 'different', 'legislation', 'which', 'will', 'not', 'lay', 'him', 'open', 'to', 'the', 'charge', 'of', 'censorship', '.'], ['either', 'they', 'do', 'their', 'job', 'properly', ',', 'or', 'you', 'must', 'get', 'the', 'power', 'so', 'that', 'you', 'can', 'be', 'sure', 'that', 'they', 'do', 'it', 'properly', '.'], ['in', 'our', 'national', 'capital', 'we', 'have', 'all', 'the', 'strains', 'and', 'all', 'the', 'divergencies', 'of', 'our', 'country', '.'], ['hon.', 'John', 'N', '.', 'Turner', '(', 'Minister', 'of', 'Finance', ')', 'moved', ':'], ['as', 'much', 'as', 'I', 'hate', 'to', 'admit', 'it', ',', 'there', 'has', 'been', 'good', 'legislation', 'brought', 'in', 'by', 'Liberal', 'governments', 'in', 'this', 'country', '--'], ['as', 'the', 'member', 'for', 'the', 'neighbouring', 'riding', 'I', 'am', 'well', 'aware', 'of', 'his', 'persistence', 'and', 'hard', 'work', '.'], ['where', 'is', 'the', 'AIB', '?'], ['at', 'the', 'moment', ',', 'that', 'fact', ',', 'unfortunately', ',', 'is', 'seen', 'in', 'two', '-', 'thirds', 'of', 'the', 'country', 'not', 'as', 'an', 'opportunity', ',', 'but', 'as', 'a', 'barrier', 'to', 'opportunity', '.'], ['do', 'not', 'force', 'a', 'moratorium', 'down', 'our', 'throats', '.'], ['this', 'not', 'the', 'first', 'time', 'that', 'members', 'of', 'parliament', 'are', 'going', 'to', 'hear', 'that', '.'], ['the', 'same', 'recommendation', 'was', 'made', 'in', 'the', 'report', 'of', 'the', 'Standing', 'Committee', 'on', 'Privileges', 'and', 'Elections', 'on', 'April', '29', 'of', 'last', 'year', '.'], ['Mr.', 'Speaker', ',', 'I', 'am', 'afraid', 'the', 'hon.', 'member', 'is', 'ill', 'informed', '.'], ['in', 'the', 'MOT', 'accident', 'report', 'it', 'is', 'stated', ':'], ['Mr.', 'Speaker', ',', 'the', 'federal', 'offer', 'was', 'for', 'a', '$', '100', 'million', 'program', '.'], ['in', 'most', 'samples', 'of', 'this', 'size', '--', 'that', 'is', ',', 'a', 'group', 'of', 'over', '500', '--', 'this', 'would', 'be', 'called', 'negligible', '.'], ['the', 'traditional', 'procedure', 'for', 'seeking', 'new', 'borrowing', 'powers', 'is', 'to', 'attach', 'a', 'clause', 'to', 'supply', 'bills', 'brought', 'before', 'the', 'House', '.'], ['this', 'strikes', 'at', 'the', 'roots', 'of', 'democracy', ',', 'and', 'it', 'is', 'the', 'right', 'of', 'the', 'people', 'to', 'know', '.'], ['this', 'would', 'relieve', 'the', 'pressure', 'on', 'oil', '.'], ['the', 'Special', 'Investigation', 'Division', 'has', 'not', 'been', 'in', 'existence', 'since', 'early', '1975', '.'], ['moreover', ',', 'this', 'is', 'not', 'a', 'matter', 'of', 'saying', 'whether', 'we', 'are', 'for', 'or', 'against', 'some', 'sort', 'of', 'assistance', 'for', 'adoptive', 'parents', '.'], ['let', 'us', 'see', 'the', 'documents', '.'], ['canada', 'has', 'continued', 'to', 'give', 'its', 'support', 'to', 'the', 'NATO', 'alliance', 'as', 'an', 'absolutely', 'indispensable', 'deterrent', 'and', 'an', 'absolutely', 'indispensable', 'assurance', 'of', 'our', 'security', '.'], ['can', 'you', 'believe', 'such', 'a', 'ban', 'in', '1978', '?'], ['no', ',', 'Mr.', 'Chairman', '.'], ['naturally', ',', 'the', 'government', 'attempts', 'to', 'get', 'the', 'best', 'possible', 'deal', 'for', 'the', 'Canadian', 'public', 'in', 'any', 'series', 'of', 'negotiations', '.'], ['i', 'would', 'add', ',', 'Mr.', 'Speaker', ',', 'that', 'it', 'must', 'be', 'continued', '.'], ['if', 'I', 'want', 'any', 'statistics', 'as', 'to', 'where', 'this', 'country', 'stands', ',', 'certainly', 'I', 'will', 'not', 'refer', 'to', 'the', 'speech', 'made', 'by', 'the', 'Prime', 'Minister', '.'], ['we', 'looked', 'at', 'all', 'the', 'implications', 'of', 'that', '.'], ['perhaps', 'it', 'would', 'be', 'a', 'good', 'idea', 'for', 'me', 'to', 'quote', 'a', 'Timmins', 'newspaper', 'because', 'maybe', 'it', 'relates', 'to', 'the', 'hon.', 'member', '.'], ['Mr.', 'Speaker', ',', 'indeed', 'I', 'have', 'the', 'final', 'report', 'from', 'the', 'Prairie', 'Rail', 'Action', 'Committee', '.'], ['(', 'ii', ')', '(', 'a', ')', 'Three', 'vehicles', 'will', 'be', 'used', 'by', 'six', 'Canadian', 'experts', 'related', 'to', 'the', 'provision', 'of', 'technical', 'assistance', '.'], ['1979', '.'], ['and', 'we', 'will', 'implement', 'every', 'recommendation', 'in', 'the', 'Auditor', 'General', \"'s\", 'report', ',', 'something', 'which', 'we', 'have', 'been', 'calling', 'for', 'over', 'the', 'last', 'ten', 'years', '.'], ['first', ',', 'Mr.', 'Speaker', ',', 'I', 'should', 'like', 'to', 'make', 'a', 'few', 'general', 'remarks', '.'], ['Mr.', 'Chairman', ',', 'I', 'will', 'see', 'if', 'there', 'is', 'such', 'a', 'figure', 'available', ',', 'but', 'I', 'would', 'quarrel', 'with', 'the', 'words', 'of', 'the', 'hon.', 'member', '.'], ['i', 'know', 'he', 'would', 'not', 'want', 'to', 'divert', 'me', 'from', 'responding', 'to', 'a', 'very', 'serious', 'question', 'by', 'his', 'colleague', '.'], ['continually', 'we', 'get', 'the', 'message', 'from', 'across', 'the', 'way', 'that', 'this', 'program', 'will', 'cost', 'the', 'government', 'something', '.'], ['that', 'is', 'the', 'crowd', 'which', 'did', 'not', 'like', 'the', '18', 'cents', '.'], ['what', 'is', 'at', 'issue', 'here', 'is', 'the', 'principle', 'that', 'the', 'public', 'of', 'Canada', 'has', 'a', 'right', 'to', 'know', 'about', 'the', 'constitution', 'of', 'Canada', '.'], ['they', 'want', 'to', 'pick', 'and', 'choose', 'what', 'they', 'will', 'support', '.'], ['do', 'you', 'have', 'it', 'in', 'writing', '?'], ['i', 'realize', ',', 'Mr.', 'Chairman', ',', 'that', 'there', 'is', 'no', 'magic', 'solution', '.'], ['in', '1978', 'Americans', 'divorced', '1,122,000', 'times', '.'], ['the', 'very', 'result', 'of', 'unemployment', 'breaks', 'up', 'families', ',', 'and', 'contributes', 'to', 'excessive', 'alcohol', 'and', 'drug', 'use', '.'], ['the', 'official', 'opposition', 'was', 'trying', 'to', 'destroy', 'Petro', '-', 'Canada', 'in', 'the', 'short', 'six', 'months', 'it', 'was', 'in', 'office', '.'], ['instead', 'of', 'causing', 'an', 'internal', 'schism', ','], ['and', 'now', 'they', 'are', 'applauding', 'themselves', 'for', 'voting', 'against', 'security', 'of', 'supply', '.'], ['as', 'to', 'making', 'contributions', ',', 'I', 'am', 'reminded', 'of', 'a', 'story', '.'], ['madam', 'Speaker', ',', 'I', 'would', 'like', 'to', 'hear', 'from', 'the', 'hon.', 'member', 'before', 'I', 'move', 'my', 'motion', '.'], ['the', 'previous', 'speaker', 'also', 'mentioned', 'they', 'would', 'like', 'to', 'have', 'the', 'provinces', 'involved', 'in', 'preparations', 'for', 'any', 'meetings', '.'], ['my', 'friend', 'from', 'Toronto', 'says', '53', 'more', 'years', '.'], ['all', 'of', 'those', 'estimates', 'indicate', 'that', 'Canada', 'will', 'be', 'in', 'much', 'more', 'trouble', 'as', 'a', 'result', 'of', 'the', 'National', 'Energy', 'Program', 'than', 'we', 'were', 'in', 'before', '.'], ['Mr.', 'Prime', 'Minister', ':'], ['indeed', ',', 'there', 'will', 'be', 'more', 'divisiveness', 'than', 'positive', 'effects', '.'], ['world', '-', 'wide', 'inflation', 'is', 'causing', 'a', 'severe', 'form', 'of', 'economic', 'dislocation', '.'], ['the', 'PT7', 'represents', 'the', 'beginning', 'of', 'a', 'new', 'family', 'of', 'engines', 'in', 'a', 'power', 'range', 'above', 'that', 'of', 'the', 'highly', 'successful', 'PT6', 'engine', '.'], ['Mr.', 'Speaker', ',', 'I', 'welcome', 'the', 'opportunity', 'to', 'join', 'in', 'this', 'adjournment', 'debate', '--'], ['the', 'competition', 'policy', 'is', 'as', 'vital', 'to', 'an', 'industrial', 'strategy', 'as', 'the', 'over', '-', 'all', 'plan', 'or', 'the', 'specific', 'set', 'of', 'plans', 'which', 'should', 'be', 'developed', '.'], ['we', 'are', 'now', 'talking', 'about', '$', '45', 'billion', 'to', 'construct', 'the', 'pipeline', '.'], ['these', 'flaws', 'are', 'all', 'reflected', 'in', 'this', 'bill', '.'], ['at', 'this', 'stage', 'of', 'the', 'debate', 'of', 'the', 'resolution', ',', 'there', 'are', 'three', 'specific', 'amendments', 'which', 'my', 'party', 'proposes', 'to', 'introduce', '.'], ['the', 'government', 'cannot', 'claim', 'that', 'there', 'is', 'any', 'change', 'in', 'the', 'balance', 'of', 'ways', 'and', 'means', '.'], ['a', 'substantial', 'provision', 'of', 'federal', 'assistance', 'for', 'regional', 'development', 'comes', 'under', 'this', 'program', ',', 'RIDA', ',', 'and', 'subsidiary', 'units', '.'], ['what', 'did', 'the', 'government', 'do', '?'], ['he', 'said', 'that', 'if', 'we', 'use', 'unemployment', 'as', 'the', 'solution', 'to', 'inflation', ',', 'we', 'will', 'get', 'recovery', '.'], ['conservation', 'is', 'beginning', 'to', 'have', 'its', 'effect', '.'], ['there', 'could', 'be', 'a', 'steel', 'mill', 'in', 'British', 'Columbia', ',', 'for', 'example', '.'], ['order', ',', 'please', '.'], ['that', 'is', 'why', 'professionals', 'should', 'not', 'be', 'charged', 'for', 'their', 'work', 'in', 'progress', '.'], ['i', 'believe', ',', 'Mr.', 'Speaker', ',', 'that', 'what', 'is', 'happening', 'today', 'is', 'a', 'good', 'thing', 'but', 'it', 'is', 'just', 'the', 'beginning', '.'], ['however', ',', 'the', 'people', 'of', 'Canada', 'are', 'responsible', 'for', 'making', 'those', 'payments', '.'], ['we', 'are', 'now', 'faced', 'with', 'legislation', 'that', 'is', 'designed', 'to', 'withdraw', 'from', 'programs', 'that', 'were', 'introduced', 'at', 'a', 'time', 'when', 'we', 'could', 'afford', 'them', '.'], ['that', 'is', 'why', 'we', 'had', 'to', 'import', '25,000', 'skilled', 'workers', 'into', 'this', 'country', 'at', 'a', 'time', 'when', 'unemployment', 'was', 'rising', '.'], ['as', 'Carter', 'said', 'back', 'in', 'the', '1960s', ',', '«', 'A', 'buck', 'is', 'a', 'buck', 'is', 'a', 'buck', '»', 'and', 'should', 'be', 'taxed', 'as', 'such', '.'], ['order', ',', 'please', '.'], ['all', 'of', 'this', 'means', 'a', 'total', 'cut', 'over', 'the', 'next', 'two', 'years', 'of', '$', '2,958', ',', 'or', '15', 'per', 'cent', 'of', 'the', 'original', '$', '20,000', 'salary', '.'], ['we', 'heard', 'in', 'the', 'news', 'this', 'morning', 'that', 'the', 'Heath', '-', 'Steele', 'mine', 'in', 'northern', 'New', 'Brunswick', 'is', 'being', 'closed', 'down', '.'], ['they', 'are', 'ready', 'to', 'follow', 'our', 'leadership', '.'], ['we', 'have', 'a', 'number', 'of', 'those', 'kinds', 'of', 'programs', 'and', 'discussions', 'going', 'on', 'at', 'the', 'present', 'moment', '.'], ['out', 'of', 'that', 'momentum', 'of', 'ideas', 'and', 'activity', ',', 'we', 'have', 'to', 'ask', 'ourselves', ',', 'why', 'has', 'the', 'development', 'problem', 'not', 'been', 'solved', '?'], ['i', 'would', 'like', 'to', 'end', 'on', 'a', 'positive', 'note', ',', 'Mr.', 'Speaker', '.'], ['i', 'want', 'to', 'make', 'it', 'plain', ',', 'Mr.', 'Speaker', ',', 'that', 'the', 'federal', 'government', 'does', 'not', 'set', 'retail', 'prices', '.'], ['the', 'House', 'met', 'at', '2', 'p.m.'], ['i', 'remind', 'hon.', 'members', 'that', 'the', 'minister', 'in', 'respect', 'of', 'transmission', 'lines', 'referred', 'to', 'the', 'same', 'power', 'that', 'now', 'exist', '.'], ['that', 'is', 'truly', 'a', 'laudable', 'goal', 'with', 'which', 'we', 'all', 'agree', '.'], ['madam', 'Speaker', ',', 'I', 'have', 'a', 'supplementary', 'question', 'for', 'the', 'Minister', 'of', 'Transport', '.'], ['let', 'me', 'come', 'now', 'to', 'Petro', '-', 'Canada', '.'], ['this', 'will', 'result', 'in', 'tremendous', 'savings', '.'], ['unfortunately', ',', 'no', 'one', 'seems', 'to', 'know', 'what', 'the', 'effect', 'will', 'be', '.'], ['we', 'have', 'allowed', 'a', 'subgovernment', 'across', 'the', 'country', 'to', 'remove', 'power', 'from', 'the', 'House', 'of', 'Commons', '.'], ['that', 'is', 'quite', 'substantial', '.'], ['what', 'exactly', 'is', 'going', 'on', 'over', 'there', '?'], ['madam', 'Speaker', ',', 'I', 'will', 'be', 'very', 'brief', '.'], ['that', 'Government', 'simply', 'tells', 'the', 'people', 'what', 'is', 'good', 'for', 'them', '.'], ['it', 'is', 'the', 'seasonally', 'adjusted', 'figures', 'which', 'show', 'the', '.5', 'per', 'cent', 'drop', 'which', 'are', 'the', 'important', 'figures', '.'], ['the', 'Chair', 'is', 'really', 'embarrassed', 'by', 'what', 'is', 'taking', 'place', '.'], ['Mr.', 'Speaker', ',', 'I', 'am', 'sorry', ',', 'I', 'have', 'not', 'seen', 'the', 'statement', 'by', 'a', 'British', 'firm', '.'], ['fewer', 'volunteers', 'are', 'available', 'because', 'so', 'many', 'women', 'have', 'returned', 'to', 'the', 'work', 'force', '.'], ['they', 'work', 'with', 'them', '.'], ['it', 'depends', 'on', 'the', 'extent', 'to', 'which', 'they', 'apply', 'themselves', '.'], ['i', 'do', 'not', 'know', 'if', 'there', 'is', 'a', 'Member', 'in', 'this', 'House', 'who', 'would', 'oppose', 'allocating', 'more', 'money', 'for', 'the', 'elderly', '.'], ['they', 'also', 'have', 'a', 'role', 'to', 'play', 'in', 'the', 'food', 'chain', '.'], ['this', 'has', 'given', 'a', 'more', 'democratic', 'element', 'to', 'the', 'things', 'we', 'were', 'faced', 'with', 'in', 'our', 'constituency', '.'], ['the', 'problem', 'is', 'to', 'obscure', 'the', 'memories', 'of', 'everyone', 'who', 'heard', 'the', 'Minister', \"'s\", 'stupid', 'statements', 'of', 'a', 'week', 'ago', '.'], ['will', 'the', 'Ministry', 'fill', 'in', 'the', 'ravine', 'at', 'the', 'end', 'of', 'runway', '24L', 'at', 'the', 'Pearson', 'International', 'Airport', 'at', 'Toronto', '?'], ['if', 'we', 'ever', 'introduce', 'such', 'legislation', ',', 'I', 'will', 'remind', 'him', 'of', 'his', 'offer', '.'], ['my', 'response', 'is', ',', 'so', 'what', '?'], ['this', ',', 'Sir', ',', 'is', 'what', 'I', 'recommend', 'to', 'the', 'House', '.'], ['whether', 'that', 'will', 'do', 'any', 'good', ',', 'I', 'do', 'not', 'know', '.'], ['that', 'is', 'the', 'principle', 'which', 'must', 'guide', 'the', 'Alliance', 'in', 'the', 'future', 'as', 'we', 'seek', 'fair', 'and', 'verifiable', 'agreements', 'with', 'the', 'Soviet', 'Union', '.'], ['i', 'guess', 'the', 'same', 'kind', 'of', 'answer', 'would', 'have', 'to', 'apply', 'to', 'the', 'matter', 'of', 'automobiles', '.'], ['they', 'are', 'bringing', 'before', 'the', 'House', 'a', 'Bill', 'that', 'will', 'restrict', 'those', 'liberties', '.'], ['for', 'debate', ',', 'the', 'Hon.', 'Member', 'for', 'Bow', 'River', '(', 'Mr.', 'Taylor', ')', '.'], ['Mr.', 'Speaker', ',', 'I', 'rise', 'on', 'a', 'point', 'of', 'order', '.'], ['the', 'Government', 'refuses', 'to', 'believe', 'it', '.'], ['those', 'were', 'very', 'challenging', 'commitments', ',', 'a', 'sort', 'of', 'preview', 'of', 'what', 'the', 'very', 'important', 'agricultural', 'sector', 'might', 'become', '.'], ['there', 'are', 'two', 'revolving', '-', 'door', 'syndrome', 'and', 'gating', '.'], ['i', 'hope', 'he', 'will', 'be', 'back', 'with', 'that', 'mobilized', 'public', 'opinion', '.'], ['i', 'think', 'the', 'argument', 'being', 'made', 'by', 'the', 'Government', 'is', 'faulty', '.'], ['however', ',', 'we', 'do', 'have', 'enough', 'money', 'to', 'bail', 'out', 'two', 'banks', '.'], ['order', '.'], ['it', 'can', 'be', 'stolen', 'just', 'as', 'other', 'types', 'of', 'property', 'can', 'be', 'stolen', '.'], ['and', ',', 'second', ',', 'Mr.', 'Speaker', ',', 'what', 'we', 'have', 'been', 'doing', 'since', 'last', 'November', 'is', 'building', 'up', 'a', 'climate', 'of', 'confidence', '.'], ['members', 'should', 'know', 'that', 'credit', 'unions', 'are', 'a', 'very', 'big', 'factor', 'in', 'financial', 'institutions', 'in', 'western', 'Canada', '.'], ['the', 'Member', 'for', 'Cochrane', '-', 'Superior', '(', 'Mr.', 'Penner', ')', 'said', 'earlier', 'tonight', 'that', 'the', 'onus', 'is', 'on', 'the', 'Government', 'to', 'free', 'up', 'its', 'Members', '.'], ['that', 'is', 'my', 'point', '.'], ['what', 'of', 'women', 'who', 'live', 'far', 'from', 'centres', 'where', 'these', 'services', 'are', 'available', '?'], ['they', 'ask', 'the', 'Members', 'of', 'this', 'House', 'to', 'put', 'an', 'end', 'to', 'all', 'cuts', 'in', 'personnel', 'at', 'these', 'shops', '.'], ['it', 'is', 'not', 'a', 'question', 'of', 'joining', ';', 'we', 'are', 'well', 'ahead', '.'], ['in', 'an', 'article', 'written', 'by', 'Dr.', 'Kenneth', 'Hare', ',', 'recognized', 'in', 'this', 'country', 'as', 'being', 'one', 'of', 'our', 'foremost', 'atmospheric', 'scientists', ',', 'the', 'following', 'appears', ':'], ['the', 'impact', 'is', 'pervasive', '.'], ['in', 'other', 'words', ',', 'a', 'subsidy', 'of', 'about', '$', '2', 'per', 'bushel', 'will', 'come', 'from', 'the', 'Reagan', 'administration', 'to', 'the', 'grain', 'farmers', 'of', 'the', 'United', 'States', '.'], ['the', 'full', 'report', 'will', 'be', 'coming', 'in', 'before', 'the', 'fall', '.'], ['if', 'these', 'rules', 'were', 'put', 'in', 'place', ',', 'would', 'we', 'indeed', 'be', 'treating', 'everyone', 'in', 'the', 'same', 'way', '?'], ['in', 'them', 'this', 'former', 'distinguished', 'Speaker', 'of', 'the', 'House', 'talked', 'about', 'sexual', 'harassment', 'where', 'some', 'women', 'had', 'to', 'disrobe', 'to', 'qualify', 'for', 'their', 'jobs', '.'], ['i', 'am', 'simply', 'alerting', 'Members', 'to', 'a', 'problem', 'that', 'I', 'see', ',', 'given', 'what', 'has', 'been', 'happening', '.'], ['the', 'Conservatives', 'while', 'in', 'Opposition', ',', 'of', 'course', ',', 'said', 'quite', 'the', 'contrary', 'to', 'what', 'they', 'are', 'doing', 'now', '.'], ['in', 'point', 'of', 'fact', ',', 'both', 'the', 'Minister', 'of', 'Justice', 'and', 'the', 'Solicitor', 'General', 'have', 'responded', 'fully', ',', 'as', 'best', 'human', 'beings', 'can', '.'], ['does', 'the', 'Deputy', 'Prime', 'Minister', 'believe', 'that', 'this', 'is', 'the', 'way', 'for', 'a', 'responsible', 'Government', ',', 'or', 'an', 'independent', 'nation', ',', 'to', 'make', 'an', 'international', 'treaty', '?'], ['the', 'parliamentary', 'subcommittee', 'is', 'considering', 'the', 'whole', 'question', 'of', 'equality', 'rights', '.'], ['the', 'fact', 'is', 'that', 'no', 'applications', 'involving', 'fewer', 'than', 'four', 'student', 'employees', 'is', 'being', 'subjected', 'to', 'any', 'test', 'of', 'whether', 'or', 'not', 'the', 'jobs', 'are', 'career', 'oriented', '.'], ['we', 'also', 'want', 'a', 'series', 'of', 'objective', 'criteria', 'based', 'on', 'factors', 'such', 'as', 'those', 'I', 'am', 'referring', 'to', '.'], ['if', 'we', 'proceed', 'on', 'that', 'basis', 'in', 'this', 'or', 'in', 'any', 'other', 'direction', 'in', 'public', 'life', ',', 'we', 'will', 'always', 'be', 'able', 'to', 'find', 'excuses', '.'], ['then', 'you', 'brought', 'in', 'your', 'program', ',', 'the', 'hotel', 'went', 'down', 'the', 'tube', 'and', 'Fort', 'St.', 'John', 'became', 'a', 'ghost', 'town', '.'], ['well', ',', 'in', 'six', 'months', ',', 'we', 'did', 'consult', ',', 'we', 'sat', 'down', 'with', 'the', 'Minister', 'and', 'hammered', 'out', 'an', 'agreement', '.'], ['the', 'Right', 'Hon.', 'Member', 'might', 'disagree', 'with', 'her', 'perspective', 'as', 'well', '.'], ['\"', 'let', 'us', 'try', 'it', ',', '\"', 'they', 'say', ',', '\"', 'and', 'see', 'if', 'it', 'works', '.'], ['approximately', '$', '3', 'million', 'of', 'this', 'amount', 'is', 'allocated', 'from', 'DREE', 'funds', ',', 'with', 'the', 'remainder', 'being', 'committed', 'by', 'the', 'Department', 'of', 'Indian', 'Affairs', 'and', 'Northern', 'Development', '.'], ['it', 'cannot', 'be', 'stressed', 'too', 'often', 'that', 'Canadians', 'are', 'disturbed', 'by', 'the', 'increase', 'in', 'violent', 'crime', '.'], ['grain', 'exports', 'are', 'projected', 'to', 'fall', 'by', '25', 'per', 'cent', 'in', 'the', '1984', '-', '85', 'crop', 'year', '.'], ['we', 'are', 'so', 'far', 'behind', 'in', 'this', 'field', 'it', 'makes', 'the', 'whole', 'country', 'feel', 'embarassed', '.'], ['they', 'do', 'not', 'really', 'change', 'the', 'status', '.'], ['there', 'is', 'no', 'longer', 'any', 'distinction', 'to', 'be', 'made', 'on', 'a', 'rational', 'basis', 'between', 'an', 'intermediate', 'range', 'and', 'an', 'intercontinental', 'range', 'nuclear', 'missile', '.'], ['could', 'I', 'ask', 'the', 'Member', 'for', 'Western', 'Arctic', 'for', 'a', 'brief', 'answer', ',', 'if', 'possible', '.'], ['greater', 'Victoria', 'is', 'a', 'tourist', 'mecca', '.'], ['that', 'tax', 'will', 'not', 'be', 'collected', 'and', 'then', 'refunded', '.'], ['there', 'has', 'been', 'a', 'commitment', 'in', 'the', 'past', 'that', 'their', 'participation', 'rate', 'would', 'go', 'at', 'least', 'to', 'historic', 'levels', 'if', 'not', 'traditional', 'levels', '.'], ['that', 'is', 'to', 'say', ',', 'at', 'the', 'request', 'of', 'the', 'person', 'who', 'may', 'be', 'going', 'to', 'declare', 'his', 'refugee', 'claim', '.'], ['that', 'is', 'the', 'actual', 'situation', '.'], ['equalization', 'payments', 'have', 'become', 'quite', 'considerable', 'through', 'the', 'years', '.'], ['it', 'has', 'been', 'a', 'matter', 'of', 'concern', 'to', 'representatives', 'of', 'all', 'parties', '.'], ['i', 'would', 'also', 'like', 'to', 'advise', 'the', 'House', 'that', 'there', 'was', 'a', 'degree', 'of', 'consultation', 'with', 'respect', 'to', 'the', 'PC', 'caucus', 'members', 'from', 'Manitoba', '.'], ['the', 'part', 'played', 'by', 'military', 'personnel', 'and', 'their', 'families', 'in', 'the', 'life', 'of', 'the', 'town', 'will', 'be', 'long', 'remembered', 'in', 'a', 'most', 'favourable', 'light', '.'], ['with', 'great', 'respect', ',', 'I', 'must', 'interrupt', '.'], ['i', 'explained', 'it', 'then', '.'], ['if', 'the', 'Prime', 'Minister', 'said', 'that', 'he', 'was', 'willing', 'to', 'resume', 'negociations', 'with', 'Quebec', ',', 'why', 'are', 'they', 'in', 'such', 'a', 'hurry', 'to', 'pass', 'this', 'Bill', '?'], ['in', 'fact', ',', 'that', 'is', 'why', 'a', 'number', 'of', 'my', 'colleagues', 'have', 'spoken', 'out', 'quite', 'vigorously', 'on', 'the', 'subject', '.'], ['i', 'should', 'like', 'to', 'put', 'on', 'the', 'record', 'just', 'exactly', 'what', 'is', 'in', 'the', 'notes', 'on', 'the', 'financial', 'statement', 'of', 'March', '31', ',', '1984', '.'], ['that', 'judgment', 'is', 'sent', 'to', 'the', 'individual', 'in', 'question', '.'], ['that', 'does', 'not', 'make', 'sense', '.'], ['Mr.', 'Speaker', ',', 'many', 'authorities', 'were', 'involved', 'in', 'acting', 'on', 'this', 'emergency', '.'], ['however', ',', 'what', 'happened', 'to', 'the', 'studies', 'that', 'were', 'conducted', 'after', 'that', 'incident', 'occurred', '?'], ['there', 'was', 'a', 'clear', 'understanding', 'by', 'the', 'former', 'Minister', 'of', 'Transport', 'that', 'these', 'regulations', 'would', 'not', 'be', 'promulgated', 'for', 'a', 'year', '.'], ['i', 'feel', 'that', 'is', 'an', 'attitude', 'in', 'Cabinet', 'which', 'we', 'do', 'not', 'have', 'the', 'luxury', 'of', 'allowing', 'to', 'continue', '.'], ['in', 'other', 'words', ',', 'Mr.', 'Speaker', ',', 'the', 'Government', 'must', 'implement', 'the', 'recommendations', 'of', 'the', 'Commissioner', 'of', 'Official', 'Languages', '.'], ['they', 'will', 'then', 'reduce', 'the', 'number', 'of', 'jobs', 'because', 'what', 'they', 'buy', 'will', 'be', 'a', 'duplication', 'of', 'other', 'operations', 'they', 'have', '.'], ['it', 'is', 'at', 'the', 'second', 'stage', 'of', 'review', 'that', 'the', 'Supreme', 'Court', 'has', 'ruled', 'that', 'a', 'hearing', 'is', 'compulsory', '.'], ['as', 'for', 'lawyers', 'specialized', 'in', 'immigration', 'matters', ',', 'the', 'Bar', 'takes', 'upon', 'itself', 'to', 'penalize', 'them', '.'], ['the', 'alternative', 'in', 'terms', 'of', 'foreign', 'investment', 'is', 'loan', 'capital', '.'], ['does', 'he', 'want', 'to', 'wait', 'until', 'the', 'economy', 'of', 'those', 'rural', 'areas', 'is', 'completely', 'down', 'before', 'responding', 'to', 'the', 'acid', 'rain', 'problem', '?'], ['i', 'think', 'that', 'should', 'not', 'be', 'too', 'difficult', 'to', 'understand', '.'], ['however', ',', 'we', 'must', 'not', 'forget', 'that', 'the', 'majority', 'of', 'beef', 'and', 'pork', 'producers', 'have', 'rejected', 'outright', 'any', 'mechanisms', 'for', 'marketing', 'stabilization', '.'], ['if', 'I', 'had', 'been', 'in', 'Bryce', \"'s\", 'position', ',', 'I', 'would', 'have', 'been', 'right', 'in', 'there', 'with', 'my', 'nose', 'to', 'the', 'public', 'trough', 'with', 'the', 'rest', 'of', 'them', '.'], ['in', 'other', 'words', ',', 'we', 'consider', 'that', 'the', 'political', 'role', 'and', 'the', 'administrative', 'role', 'should', 'be', 'kept', 'separate', '.'], ['as', 'a', 'result', ',', 'the', 'Government', 'had', 'to', 'take', 'steps', 'to', 'see', 'that', 'the', 'company', 'was', 'taken', 'over', '.'], ['all', 'of', 'these', 'heritage', 'places', 'are', 'managed', 'by', 'Parks', 'Canada', 'for', 'the', 'benefit', 'and', 'enjoyment', 'of', 'all', 'Canadians', '.'], ['as', 'I', 'indicated', 'earlier', 'in', 'this', 'ruling', ',', 'such', 'discrimination', 'was', 'not', 'envisaged', 'in', 'the', 'Bill', 'when', 'it', 'was', 'given', 'second', 'reading', '.'], ['there', 'is', 'a', 'role', 'for', 'both', 'the', 'public', 'and', 'the', 'private', 'sector', '.'], ['there', 'will', 'be', 'more', 'criticism', ',', 'perhaps', ',', 'because', 'this', 'Government', ',', 'as', 'I', 'understand', 'it', ',', 'is', 'committed', 'to', 'making', 'things', 'more', 'open', 'to', 'the', 'public', '.'], ['that', 'is', 'not', 'good', 'enough', '.'], ['he', 'was', 'the', 'one', 'who', 'told', 'us', 'that', 'the', 'construction', 'of', 'a', 'maintenance', 'centre', 'for', 'VIA', 'Rail', 'in', 'Montreal', 'would', 'be', 'indefinitely', 'postponed', '.'], ['but', 'then', 'Mr.', 'Baldwin', 'said', ':'], ['we', 'want', 'full', 'public', 'disclosure', 'of', 'company', 'commitments', 'involved', 'in', 'take', '-', 'overs', 'of', 'Canadian', 'business', '.'], ['there', 'is', 'also', 'a', 'need', 'to', 'co', '-', 'ordinate', 'with', 'provincial', 'Governments', 'as', 'to', 'what', 'certain', 'areas', 'require', '.'], ['they', 'are', 'of', 'the', 'opinion', 'that', 'by', 'just', 'changing', 'the', 'name', 'from', 'FIRA', 'to', 'Investment', 'Canada', 'we', 'are', 'going', 'to', 'have', 'an', 'automatic', 'inflow', 'of', 'dollars', '.'], ['can', 'the', 'Minister', 'tell', 'this', 'House', 'what', 'position', 'the', 'Canadian', 'Government', 'will', 'take', 'in', 'this', 'regard', '?'], ['it', 'is', 'nine', 'months', 'since', 'the', 'election', 'of', 'this', 'Government', 'and', 'we', 'have', 'yet', 'to', 'see', 'a', 'Budget', '.'], ['we', 'currently', 'allow', 'the', 'Canadian', 'amateur', 'athletic', 'associations', 'to', 'be', 'registered', ',', 'and', 'it', 'is', 'my', 'belief', 'that', 'we', 'should', 'allow', 'the', 'provincial', 'groups', 'as', 'well', 'to', 'be', 'registered', '.'], ['a', 'Canadian', 'amateur', 'athletic', 'association', 'by', 'definition', 'includes', 'federal', 'associations', 'but', 'does', 'not', 'include', 'their', 'provincial', 'counterparts', '.'], ['to', 'this', 'battle', 'Canada', 'gave', '1,800', 'gallant', 'sailors', 'and', '24', 'proud', 'ships', '.'], ['i', 'find', 'it', 'incredible', 'that', 'the', 'President', 'of', 'the', 'Treasury', 'Board', 'would', 'be', 'laughing', 'about', 'a', 'matter', 'as', 'serious', 'as', 'this', '.'], ['they', 'have', 'also', 'asked', 'for', 'additional', 'funding', '.'], ['well', ',', 'everyone', 'would', 'agree', 'with', 'that', '.'], ['it', 'is', 'no', 'wonder', 'that', 'there', 'was', 'no', 'permanent', 'chief', 'executive', 'officer', 'for', 'over', '12', 'months', '.'], ['the', 'Minister', 'spoke', 'of', 'meetings', 'and', 'I', 'applaud', 'that', '.'], ['we', 'had', 'to', 'put', 'that', 'in', 'St.', 'John', \"'s\", '.'], ['that', 'is', 'an', 'accurate', 'description', 'of', 'what', 'is', 'happening', '.'], ['they', 'cannot', 'be', 'treated', 'in', 'isolation', '.'], ['he', 'obviously', 'does', 'not', 'like', 'the', 'co', '-', 'op', 'people', 'in', 'eastern', 'Canada', '.'], ['the', 'federal', 'Government', 'has', 'a', 'responsibility', 'to', 'be', 'a', 'policing', 'agent', '.'], ['it', 'wants', 'to', 'increase', 'the', 'percentage', 'of', 'its', 'part', '-', 'time', 'workers', 'to', '45', 'per', 'cent', 'of', 'its', 'total', 'work', 'force', '.'], ['in', 'the', 'last', 'Manitoba', 'provincial', 'election', ',', '900', 'mail', '-', 'in', 'votes', 'were', 'received', 'and', 'were', 'mostly', 'from', 'urban', 'voters', '.'], ['what', 'does', 'basic', 'common', 'sense', 'say', '?'], ['standards', 'are', 'actually', 'stricter', 'in', 'abattoirs', 'built', 'according', 'to', 'Quebec', 'regulations', '.'], ['technicians', 'make', 'more', 'than', 'the', 'writers', 'and', 'playwrights', 'whose', 'works', 'are', 'being', 'performed', '.'], ['they', 'were', 'all', 'leftists', '.'], ['it', 'is', 'well', 'done', '.'], ['yes', ',', 'we', 'are', 'a', 'small', 'nation', 'and', 'we', 'are', 'vulnerable', 'because', 'of', 'our', 'size', '.'], ['Mr.', 'Wyman', 'has', 'many', 'years', 'of', 'experience', 'in', 'the', 'financial', 'market', 'sector', '.'], ['let', \"'s\", 'think', 'about', 'that', 'for', 'just', 'a', 'moment', '.'], ['i', 'do', 'not', 'think', 'we', 'should', 'beat', 'around', 'the', 'bush', 'any', 'longer', 'about', 'how', 'to', 'set', 'things', 'right', '.'], ['it', 'says', 'that', 'resource', 'impact', 'funding', 'helps', 'Indian', 'people', 'to', 'get', 'a', 'piece', 'of', 'the', 'action', '.'], ['one', 'of', 'the', 'major', 'objectives', 'of', 'these', 'consultations', 'is', 'to', 'make', 'sure', 'that', 'the', 'recovery', 'benefits', 'all', '.'], ['Mr.', 'Speaker', ',', 'I', 'think', 'that', 'in', 'his', 'speech', ',', 'the', 'Hon.', 'Member', 'from', 'Baie', '-', 'Comeau', 'misrepresented', 'reality', '.'], ['it', 'is', 'a', 'matter', 'of', 'elementary', 'justice', 'that', 'women', \"'s\", 'jobs', 'be', 'fairly', 'evaluated', '.'], ['we', 'intend', 'to', 'continue', 'this', 'discussion', 'with', 'the', 'benefit', 'of', 'the', 'views', 'of', 'a', 'wide', 'range', 'of', 'interested', 'parties', '.'], ['i', 'think', 'particularly', 'of', 'single', 'parents', '.'], ['the', 'Minister', 'of', 'Regional', 'Economic', 'Expansion', 'treats', 'all', 'matters', 'related', 'to', 'Quebec', 'with', 'a', 'great', 'deal', 'of', 'fairness', 'and', 'honesty', '.'], ['as', 'a', 'matter', 'of', 'fact', 'that', 'net', 'farm', 'income', 'reached', 'its', 'lowest', 'level', 'since', '1970', 'and', 'the', 'third', 'lowest', 'level', 'since', '1938', ',', 'some', '45', 'years', 'ago', '.'], ['in', 'the', 'Laval', '-', 'Deux', '-', 'Montagnes', 'area', ',', '$', '225,000', 'was', 'spent', 'in', '1984', 'but', 'only', '$', '30,000', 'will', 'be', 'spent', 'this', 'year', 'Mr.', 'Speaker', '.'], ['this', 'particular', 'Minister', 'made', 'personal', 'election', 'promises', 'that', 'he', 'would', 'not', 'only', 'consult', 'with', 'fishermen', 'but', 'that', 'he', 'would', 'be', 'readily', 'available', 'when', 'problems', 'arise', '.'], ['that', 'investment', 'is', 'being', 'neglected', ',', 'primarily', 'in', 'British', 'Columbia', '.'], ['the', 'outstanding', 'issue', 'has', 'been', 'the', 'failure', 'to', 'make', 'a', 'funding', 'commitment', 'for', 'the', 'ERDA', 'agreement', '.'], ['he', 'should', 'come', 'clean', 'on', 'this', 'issue', 'this', 'afternoon', 'instead', 'of', 'giving', 'us', 'all', 'this', 'gobbledy', '-', 'gook', '.'], ['he', 'said', 'that', 'British', 'Telecom', '«', 'has', 'not', 'demonstrated', 'its', 'marketing', 'savvy', 'or', 'product', 'management', 'ability', '»', '.'], ['foreign', 'investment', 'was', 'running', 'Canada', 'as', 'though', 'it', 'were', 'the', 'fifty', '-', 'first', 'State', '.'], ['it', 'does', 'not', 'conduct', 'research', 'and', 'development', '.'], ['the', 'first', 'question', 'is', ':', 'why', 'does', 'agriculture', 'require', 'stabilization', '?'], ['as', 'a', 'general', 'rule', ',', 'all', 'the', 'producers', 'of', 'any', 'given', 'commodity', 'are', 'affected', 'simultaneously', 'by', 'a', 'cost', '-', 'price', 'squeeze', '.'], ['we', 'have', 'a', 'diversified', 'riding', '.'], ['so', 'the', 'real', 'problem', 'is', 'that', 'farmers', 'are', 'leaving', 'farming', '.'], ['let', 'us', 'go', 'to', 'the', 'question', 'of', 'what', 'the', 'public', 'seems', 'to', 'be', 'saying', 'on', 'this', 'issue', 'of', 'Senate', 'reform', '.'], ['as', 'this', 'is', 'what', 'is', 'required', ',', 'it', 'is', 'the', 'target', 'the', 'Government', 'has', 'in', 'mind', '.'], ['that', ',', 'I', 'believe', ',', 'we', 'all', 'find', 'unacceptable', ',', 'regardless', 'of', 'political', 'Party', '.'], ['let', 'me', 'return', 'to', 'the', 'Bill', 'which', 'is', 'before', 'us', '.'], ['it', 'is', 'a', 'mistake', 'to', 'do', 'what', 'the', 'Tories', 'are', 'proposing', 'to', 'do', 'to', 'differentiate', 'their', 'Bill', '.'], ['we', 'know', 'how', 'painful', 'that', 'can', 'be', 'for', 'people', 'who', 'are', 'going', 'through', 'a', 'period', 'of', 'their', 'life', 'which', 'is', 'not', 'particularly', 'joyful', '.'], ['the', 'establishment', 'of', 'such', 'a', 'system', 'should', 'therefore', 'be', 'a', 'priority', 'in', 'each', 'province', 'where', 'it', 'does', 'not', 'already', 'exist', '.'], ['we', 'have', 'been', 'colleagues', 'for', 'a', 'long', 'time', '.'], ['it', 'will', 'help', 'Canadian', 'companies', 'to', 'accelerate', 'their', 'return', 'to', 'a', 'healthy', 'financial', 'position', 'by', 'attracting', 'new', 'equity', 'investment', '.'], ['the', 'universal', 'family', 'allowance', 'is', 'maintained', '.'], ['research', 'is', 'a', 'low', 'priority', '.'], ['oh', '?'], ['there', 'are', 'increased', 'costs', 'for', 'shampoo', 'and', 'drinks', 'for', 'kids', ',', 'pet', 'food', ',', 'gas', ',', 'and', 'even', 'heating', 'the', 'home', '.'], ['this', 'technique', 'is', 'not', 'unusual', 'on', 'the', 'basis', 'of', 'precedents', '.'], ['similarly', ',', 'under', 'the', 'last', 'Liberal', 'Budget', ',', 'personal', 'income', 'increased', 'in', '1984', 'by', '7', 'per', 'cent', '.'], ['but', 'the', 'Government', 'treats', 'itself', 'to', 'lavish', 'spending', 'and', 'engages', 'in', 'bailing', 'out', 'corporations', '.'], ['there', 'will', 'be', 'improved', 'survivor', 'benefit', 'regulations', 'for', 'women', ',', 'standards', 'for', 'pension', 'benefit', 'splitting', 'on', 'marriage', 'breakdown', ',', 'and', 'equality', 'standards', '.'], ['in', 'fact', ',', 'if', 'one', 'adds', 'in', 'some', 'other', 'things', 'resulting', 'from', 'the', 'Western', 'Accord', ',', 'I', 'think', 'it', 'is', 'more', 'likely', 'to', 'be', '2.8', 'cents', 'per', 'litre', '.'], ['we', 'follow', 'through', 'with', 'our', 'election', 'pledges', '.'], ['we', 'must', 'revive', 'our', 'economy', ',', 'create', 'jobs', ',', 'rationalize', 'government', 'spending', ',', 'administer', 'with', 'increased', 'efficiency', '.'], ['it', 'does', 'not', 'make', 'a', 'lot', 'of', 'sense', ',', 'particularly', 'when', 'you', 'look', 'at', 'who', 'is', 'paying', '.'], ['what', 'will', 'they', 'do', 'with', 'that', 'capital', '?'], ['that', 'is', 'roughly', 'equal', 'to', 'the', '$', '440', 'million', 'paid', 'to', 'Canadair', 'in', 'two', 'years', '.'], ['from', 'these', 'hearings', ',', 'it', 'became', 'obvious', 'that', 'the', 'major', 'concern', 'was', 'capital', 'gains', '.'], ['it', 'indicates', 'to', 'individual', 'Canadians', 'that', 'for', 'too', 'long', 'Government', 'has', 'made', 'their', 'decisions', 'for', 'them', '.'], ['that', 'brings', 'to', 'mind', 'the', 'hundreds', 'of', 'young', 'Canadians', 'I', 'met', 'recently', ',', 'most', 'of', 'them', 'quite', 'disillusioned', '.'], ['this', 'is', 'why', 'I', 'cannot', 'find', 'myself', 'supportive', 'of', 'the', 'request', 'for', 'additional', 'funding', 'for', 'the', 'Government', 'by', 'way', 'of', 'borrowing', '.'], ['the', 'Hon.', 'Member', 'says', ':', '«', 'neglected', 'Quebec', '»', ',', 'and', 'I', 'agree', '.'], ['i', 'was', 'glad', 'to', 'hear', 'that', 'Crown', 'corporations', 'with', 'a', 'commercial', 'value', 'but', 'no', 'ongoing', 'public', 'policy', 'purpose', 'will', 'be', 'sold', '.'], ['we', 'have', 'taken', 'these', 'considerations', 'very', 'much', 'into', 'account', 'when', 'we', 'designed', 'the', 'Budget', '.'], ['will', 'the', 'Prime', 'Minister', 'live', 'up', 'to', 'that', 'commitment', '?'], ['can', 'the', 'Minister', 'clarify', 'the', 'effect', 'of', 'the', 'reduction', '?'], ['thus', 'far', ',', 'I', 'have', 'been', 'describing', 'the', 'physical', 'aspects', 'of', 'my', 'constituency', '.'], ['we', 'believe', 'they', 'will', 'accept', 'the', 'challenge', '.'], ['can', 'he', 'tell', 'them', 'that', 'is', 'fair', '?'], ['it', 'has', 'been', 'years', 'and', 'years', 'since', 'our', 'business', 'community', 'got', 'such', 'a', 'vote', 'of', 'confidence', 'from', 'Government', '.'], ['the', 'Progressive', 'Conservative', 'Party', 'of', 'Canada', 'is', 'providing', 'the', 'opposition', '.'], ['they', 'stood', 'to', 'a', 'person', 'and', 'applauded', 'loudly', '.'], ['eight', '.'], ['no', ',', 'Mr.', 'Speaker', ',', 'not', 'quite', '.'], ['i', 'would', 'like', 'now', 'to', 'go', 'into', 'the', 'theory', 'behind', 'the', 'removal', 'of', 'capital', 'gains', 'tax', '.'], ['it', 'will', 'increase', 'poverty', 'in', 'the', 'most', 'vulnerable', 'people', ',', 'senior', 'citizens', ',', 'who', 'will', 'not', 'be', 'able', 'to', 'go', 'out', 'and', 'find', 'other', 'sources', 'of', 'income', '.'], ['CFB', 'Moose', 'Jaw', 'is', 'also', 'the', 'home', 'of', 'the', 'Snowbirds', ',', 'Canada', \"'s\", 'aerobatic', 'air', 'team', '.'], ['our', 'caucus', 'heard', 'the', 'other', 'day', 'from', 'the', 'Atlantic', 'provinces', 'economic', 'council', '.'], ['come', 'on', ',', 'give', 'us', 'a', 'break', '!'], ['that', 'is', 'one', 'major', 'problem', '.'], ['i', 'wish', 'to', 'direct', 'the', 'majority', 'of', 'my', 'comments', 'today', 'to', 'the', 'many', 'improvements', 'offered', 'in', 'the', 'pension', 'programs', 'available', 'to', 'all', 'Canadians', '.'], ['furthermore', ',', 'the', 'erosion', 'of', 'the', 'cost', 'base', 'of', 'assets', 'by', 'inflation', 'was', 'also', 'regarded', 'as', 'something', 'that', 'should', 'be', 'compensated', 'for', '.'], ['the', 'Budget', 'is', 'realistic', 'because', 'it', 'takes', 'a', 'balanced', 'and', 'sensible', 'approach', '.'], ['that', 'is', 'not', 'the', 'interest', 'or', 'concern', 'of', 'this', 'Government', '.'], ['they', 'voted', 'for', 'a', 'change', 'in', 'the', 'national', 'affairs', 'of', 'our', 'nation', '.'], ['on', 'a', 'point', 'of', 'order', ',', 'Mr.', 'Speaker', '.'], ['the', 'facts', 'are', 'clear', '.'], ['the', 'motion', 'of', 'the', 'Hon.', 'Member', 'for', 'Beaches', 'therefore', 'gives', 'us', 'an', 'opportunity', 'to', 'do', 'in', 'this', 'House', 'what', 'everyone', 'else', 'is', 'now', 'doing', 'throughout', 'the', 'country', '.'], ['they', 'also', 'have', 'a', 'technical', 'library', ',', 'and', 'the', 'company', 'spends', 'nearly', '$', '2', 'million', 'annually', 'on', 'these', 'research', 'services', '.'], ['second', ',', 'we', 'want', 'to', 'assist', 'Canadian', 'businesses', 'to', 'exploit', 'opportunities', 'for', 'investment', 'and', 'technological', 'advancement', '.'], ['not', 'only', 'are', 'the', 'risks', 'greater', 'but', 'the', 'time', 'required', 'to', 'prepare', 'for', 'marine', 're', '-', 'supply', 'is', 'lengthy', '.'], ['Mr.', 'Speaker', ',', 'once', 'again', 'the', 'Liberal', 'and', 'NDP', 'forecasters', 'of', 'economic', 'doom', 'and', 'gloom', 'have', 'been', 'proven', 'wrong', '.'], ['i', 'am', 'not', 'going', 'to', 'bother', 'boring', 'the', 'House', 'with', 'those', 'answers', 'again', '.'], ['however', ',', 'when', 'we', 'came', 'into', 'office', 'we', 'discovered', 'that', 'the', 'trend', 'line', 'was', 'going', 'up', '.'], ['only', 'the', 'document', 'cited', 'need', 'to', 'be', 'tabled', 'by', 'a', 'Minister', '.'], ['furthermore', ',', 'there', 'is', 'the', 'provision', 'in', 'our', 'resolution', 'of', 'having', 'had', 'to', 'serve', 'for', 'a', 'period', 'in', 'excess', 'of', '365', 'days', 'in', 'Canada', 'as', 'the', 'basis', 'of', 'eligibility', '.'], ['the', 'Government', 'said', 'that', 'it', 'had', 'not', 'had', 'time', 'to', 'talk', 'to', 'either', 'group', 'about', 'that', 'proposal', '.'], ['in', 'other', 'words', ',', 'the', 'writing', 'is', 'on', 'the', 'wall', '.'], ['they', 'were', 'saying', 'that', 'homeowners', 'would', 'lose', 'again', 'because', 'interest', 'rates', 'were', 'rising', '.'], ['our', 'international', 'role', 'has', 'somehow', 'collapsed', '.'], ['for', 'instance', ',', 'if', 'we', 'look', 'at', 'crop', 'insurance', ',', 'the', 'federal', 'Government', 'has', 'put', 'up', 'half', 'the', 'premiums', 'and', 'the', 'producers', 'have', 'put', 'up', 'the', 'other', 'half', '.'], ['so', 'we', 'cannot', 'think', 'in', 'those', 'terms', '.'], ['the', 'Minister', 'has', 'said', 'that', 'the', 'only', 'problem', 'with', 'Candu', 'and', 'the', 'whole', 'nuclear', 'power', 'option', 'is', 'a', 'marketing', 'one', '.'], ['why', 'was', 'it', 'that', 'I', 'was', 'receiving', 'those', 'kind', 'of', 'representations', '?'], ['»', 'that', 'is', 'what', 'the', 'present', 'Prime', 'Minister', 'told', 'the', 'former', 'Prime', 'Minister', '.'], ['most', 'of', 'them', 'are', 'unable', 'to', 'work', '.'], ['a', 'few', 'days', 'ago', 'my', 'colleague', 'from', 'Essex', '-', 'Windsor', 'gave', 'the', 'House', 'a', 'history', 'lesson', '.'], ['the', 'article', 'reads', ':'], ['he', 'said', 'that', 'he', 'was', 'burning', 'oil', '.'], ['the', 'Government', 'has', 'yet', 'to', 'come', 'to', 'the', 'point', 'of', 'determining', 'how', 'and', 'when', 'this', 'change', 'should', 'take', 'place', '.'], ['i', 'referred', 'earlier', 'to', 'the', 'bet', 'taken', 'up', 'by', 'the', 'Prime', 'Minister', '(', 'Mr.', 'Mulroney', ')', 'concerning', 'employment', 'as', 'related', 'to', 'immigration', '.'], ['however', ',', 'we', 'see', 'in', 'the', 'legislation', 'before', 'us', 'today', 'only', 'two', 'substantive', 'amendments', 'and', 'a', 'number', 'of', 'housekeeping', 'amendments', 'to', 'the', 'Bill', '.'], ['we', 'as', 'a', 'society', 'cannot', 'afford', 'to', 'discriminate', 'among', 'individuals', 'on', 'that', 'sort', 'of', 'basis', '.'], ['this', 'type', 'of', 'federal', '-', 'provincial', 'co', '-', 'operation', 'is', 'required', 'to', 'increase', 'the', 'sensitivity', 'and', 'efficiency', 'of', 'our', 'current', 'disease', 'surveillance', 'systems', '.'], ['he', 'suggested', 'that', 'June', 'at', 'least', 'would', 'be', 'a', 'better', 'time', '.'], ['in', '1934', ',', 'the', 'company', 'was', 'renamed', 'the', 'Northern', 'Transportation', 'Company', 'Limited', ',', 'still', 'under', 'private', 'ownership', '.'], ['i', 'do', 'commend', 'the', 'Minister', 'of', 'Transport', 'for', 'following', 'through', 'on', 'the', 'original', 'terms', 'of', 'reference', '.'], ['then', 'and', 'only', 'then', 'does', 'the', 'private', 'sector', 'rush', 'in', 'saying', 'that', 'it', 'cannot', 'have', 'all', 'these', 'publicly', '-', 'owned', 'corporations', 'interfering', 'in', 'the', 'private', 'sector', '.'], ['specialty', 'services', 'such', 'as', 'stand', '-', 'by', 'supply', 'vessels', 'for', 'the', 'Beaufort', 'Sea', 'oil', 'and', 'gas', 'industry', 'can', 'be', 'provided', 'by', 'others', '.'], ['unfortunately', 'or', 'fortunately', ',', 'however', 'one', 'views', 'the', 'issue', ',', 'that', 'particular', 'Minister', 'has', 'not', 'met', 'with', 'very', 'much', 'success', '.'], ['however', ',', 'perhaps', 'the', 'Chair', 'could', 'dispose', 'of', 'Motion', 'No.', '1', '.'], ['on', 'the', 'west', 'coast', 'we', 'have', 'the', 'Minister', \"'s\", 'Advisory', 'Committee', 'which', ',', 'while', 'not', 'perfect', ',', 'is', 'at', 'least', 'of', 'assistance', '.'], ['this', 'is', 'a', 'fine', 'example', 'of', 'a', 'partnership', 'in', 'progress', 'between', 'government', 'and', 'industry', '.'], ['Mr.', 'Speaker', ',', 'my', 'question', 'is', 'directed', 'to', 'the', 'Minister', 'of', 'Transport', '.'], ['Mr.', 'Speaker', ',', 'let', 'me', 'be', 'clear', '.'], ['within', 'the', 'Government', 'of', 'Canada', ',', 'a', 'number', 'of', 'Departments', 'have', 'been', 'actively', 'involved', 'and', 'have', 'been', 'proceeding', 'in', 'a', 'co', '-', 'operative', 'and', 'coordinated', 'fashion', '.'], ['however', ',', 'the', 'contradiction', 'between', 'what', 'he', 'said', 'and', 'what', 'has', 'been', 'said', 'by', 'his', 'officials', 'requires', 'further', 'independent', 'investigation', '.'], ['i', 'know', 'that', 'we', 'are', 'trying', 'to', 'do', 'it', ',', 'at', 'the', 'federal', 'level', 'through', 'the', 'Farm', 'Credit', 'Corporation', '.'], ['these', 'are', 'key', 'economic', 'indicators', '.'], ['production', 'is', 'being', 'expanded', 'with', 'the', 'development', 'of', 'a', 'sixth', 'farm', 'at', 'Bowden', 'Institution', 'in', 'Alberta', '.'], ['that', 'was', 'the', 'principle', 'of', 'the', 'Bill', 'as', 'passed', 'on', 'second', 'reading', '.'], ['surely', 'no', 'one', ',', 'and', 'particularly', 'no', 'member', 'of', 'the', 'Conservative', 'Party', ',', 'would', 'believe', 'that', '.'], ['the', 'people', 'of', 'Canada', 'did', 'that', 'on', 'September', '4', '.'], ['call', 'in', 'the', 'Members', '.'], ['we', 'think', 'that', 'now', 'is', 'the', 'time', 'for', 'the', 'regulations', 'and', 'procedures', 'to', 'be', 'properly', 'established', '.'], ['the', 'point', 'was', 'well', 'taken', 'because', 'the', 'success', 'of', 'these', 'agreements', 'will', 'depend', 'to', 'a', 'considerable', 'degree', 'upon', 'the', 'quality', 'of', 'their', 'administration', '.'], ['canada', 'can', 'be', 'proud', 'of', 'its', 'record', 'on', 'human', 'rights', 'and', 'should', 'serve', 'as', 'an', 'example', 'of', 'tolerance', 'to', 'other', 'countries', '.'], ['whose', 'advice', 'did', 'he', 'follow', 'in', 'making', 'his', 'decision', ',', 'in', 'that', 'his', 'officials', 'rejected', 'it', '?'], ['Mr.', 'Speaker', ',', 'I', 'am', 'pleased', 'that', 'the', 'Prime', 'Minister', 'has', 'provided', 'the', 'information', 'in', 'the', 'House', '.'], ['may', 'I', 'therefore', 'ask', 'the', 'Hon.', 'Member', 'to', 'refrain', 'from', 'any', 'further', 'displays', '.'], ['why', 'did', 'the', 'Prime', 'Minister', 'appear', 'prepared', 'to', 'disregard', 'his', 'promise', 'in', 'the', 'first', 'place', '?'], ['Mr.', 'Speaker', ',', 'I', 'am', 'always', 'amused', 'by', 'these', 'probing', 'questions', 'from', 'the', 'Liberal', 'Party', ',', 'the', 'Party', 'which', 'says', 'that', 'it', 'would', 'control', 'the', 'deficit', '.'], ['surely', 'the', 'Hon.', 'Member', 'is', 'not', 'suggesting', 'that', 'we', 'levy', 'taxes', 'on', 'companies', 'that', 'have', 'been', 'losing', 'money', '.'], ['Mr.', 'Speaker', ',', 'the', 'premise', 'of', 'the', 'question', 'put', 'by', 'the', 'Hon.', 'Member', 'is', 'wrong', '.'], ['how', 'many', 'people', 'are', 'employed', '(', 'a', ')', 'directly', 'or', 'by', 'contract', '(', 'b', ')', 'full', 'time', 'and', 'part', 'time', ',', 'in', 'the', 'Office', 'of', 'the', 'Prime', 'Minister', '?'], ['the', 'fees', 'paid', 'to', 'each', 'performer', 'were', 'in', 'keeping', 'with', 'the', 'role', 'played', 'in', 'the', 'gala', 'and', 'with', 'the', 'standards', 'of', 'the', 'Union', 'des', 'Artistes', '.'], ['during', 'the', 'Liberal', 'administration', 'nothing', 'was', 'done', 'about', 'it', '.'], ['they', 'know', 'about', 'the', 'overproduction', 'problem', '.']]\n"
     ]
    }
   ],
   "source": [
    "# point to sentences to be learned file here\n",
    "my_sentences_fn = '../..//ULL/data/Practical2/wa/english/'\n",
    "my_sentences_fn = '../..//ULL/data/Practical2/wa/english_full/'\n",
    "\n",
    "sentences = MySentences(my_sentences_fn) # a memory-friendly iterator\n",
    "print(list(sentences))"
   ]
  },
  {
   "cell_type": "markdown",
   "metadata": {},
   "source": [
    "1. Clean stopwords\n",
    "2. choose most frequent words replace 'the' etc with unknowns, also stopwords\n",
    "3. "
   ]
  },
  {
   "cell_type": "markdown",
   "metadata": {},
   "source": [
    "# Pytorch  basic skipgram"
   ]
  },
  {
   "cell_type": "markdown",
   "metadata": {},
   "source": [
    "In order to learn the embeddings we need a corpus and a method to read it and create the dictionary"
   ]
  },
  {
   "cell_type": "code",
   "execution_count": 9,
   "metadata": {},
   "outputs": [
    {
     "data": {
      "text/plain": [
       "<torch._C.Generator at 0x1060d9f50>"
      ]
     },
     "execution_count": 9,
     "metadata": {},
     "output_type": "execute_result"
    }
   ],
   "source": [
    "# Author: Robert Guthrie\n",
    "\n",
    "import torch\n",
    "import torch.nn as nn\n",
    "import torch.nn.functional as F\n",
    "import torch.optim as optim\n",
    "\n",
    "torch.manual_seed(1)"
   ]
  },
  {
   "cell_type": "markdown",
   "metadata": {},
   "source": [
    "1. Create context and targer pairs from the corpus\n",
    "\n",
    "context: length k (k words surrounding the target) - it is the index of each context word in the vocabulary\n",
    "eg. tensor([ 37,  30,   7,   6])\n",
    "\n",
    "\n",
    "target: length 1 - index of target word\n",
    "eg. tensor([40])\n",
    "\n",
    "pytorch notes:\n",
    "Note that the input to NLLLoss is a vector of log probabilities, and a target label. It doesn’t compute the log probabilities for us. This is why the last layer of our network is log softmax. \n"
   ]
  },
  {
   "cell_type": "code",
   "execution_count": 12,
   "metadata": {},
   "outputs": [],
   "source": [
    "mode=\"full\"\n",
    "if mode=='full':\n",
    "    my_sentences_fn = '../..//ULL/data/Practical2/wa/english_full/'\n",
    "else:\n",
    "    my_sentences_fn = '../..//ULL/data/Practical2/wa/english/'\n",
    "\n",
    "sentences = MySentences(my_sentences_fn) # a memory-friendly iterator\n"
   ]
  },
  {
   "cell_type": "code",
   "execution_count": 29,
   "metadata": {
    "collapsed": true
   },
   "outputs": [],
   "source": [
    "# Create the training data\n",
    "\n",
    "vocabulary = []\n",
    "for sentence in sentences:\n",
    "    for token in sentence:\n",
    "        if token not in vocabulary:\n",
    "            vocabulary.append(token)\n",
    "\n",
    "word2idx = {w: idx for (idx, w) in enumerate(vocabulary)}\n",
    "idx2word = {idx: w for (idx, w) in enumerate(vocabulary)}\n",
    "\n",
    "\n",
    "vocabulary_size = len(vocabulary)\n",
    "\n",
    "window_size = 2\n",
    "context_size = window_size\n",
    "idx_pairs = []\n",
    "data=[]\n",
    "bayesian_data=[]\n",
    "# for each sentence\n",
    "for sentence in sentences:\n",
    "    indices = [word2idx[word] for word in sentence]\n",
    "    # for each word, threated as center word\n",
    "    for center_word_pos in range(len(indices)):\n",
    "        # for each window position\n",
    "        contexts_for_word = []\n",
    "\n",
    "        for w in range(-window_size, window_size + 1):\n",
    "            context_word_pos = center_word_pos + w\n",
    "            # make soure not jump out sentence\n",
    "            if context_word_pos < 0 or context_word_pos >= len(indices) or center_word_pos == context_word_pos:\n",
    "                continue\n",
    "            context_word_idx = indices[context_word_pos]\n",
    "            data.append((context_word_idx, indices[center_word_pos]))\n",
    "            \n",
    "            # this is used for bayesian to keep all contexts  of a word together\n",
    "            contexts_for_word.append(context_word_idx)\n",
    "        bayesian_data.append((contexts_for_word, indices[center_word_pos]))\n",
    "\n",
    "\n",
    "\n",
    "vocab = vocabulary\n",
    "vocab_size = vocabulary_size"
   ]
  },
  {
   "cell_type": "code",
   "execution_count": 17,
   "metadata": {},
   "outputs": [
    {
     "name": "stdout",
     "output_type": "stream",
     "text": [
      "(3, 2)\n"
     ]
    }
   ],
   "source": [
    "print(data[10])"
   ]
  },
  {
   "cell_type": "code",
   "execution_count": null,
   "metadata": {
    "collapsed": true
   },
   "outputs": [],
   "source": [
    "data = []\n",
    "labels = []\n",
    "for sentence in sentences:\n",
    "    for i in range(len(sentence)):\n",
    "        for j in range(i-window, i+window+1):\n",
    "            if i != j and j>=0 and j<len(sentence):\n",
    "                if (not (sentence[i] in stopWords or sentence[i] in string.punctuation or sentence[i].isdigit() or\n",
    "                    sentence[j] in stopWords or  sentence[j] in string.punctuation or sentence[j].isdigit())):\n",
    "                    # data.append(sentence[i])\n",
    "                    # labels.append(sentence[j])\n",
    "                    if sentence[i] in vocab:\n",
    "                        data.append(w2i[sentence[i]])\n",
    "                    else:\n",
    "                        data.append(w2i[unk])\n",
    "                    if sentence[j] in vocab:\n",
    "                        labels.append(w2i[sentence[j]])\n",
    "                    else:\n",
    "                        labels.append(w2i[unk])"
   ]
  },
  {
   "cell_type": "markdown",
   "metadata": {},
   "source": [
    "# Implementation 2 "
   ]
  },
  {
   "cell_type": "code",
   "execution_count": 18,
   "metadata": {
    "collapsed": true
   },
   "outputs": [],
   "source": [
    "  \n",
    "class skipgram(nn.Module):  \n",
    "    def __init__(self, vocab_size, embedding_dim):  \n",
    "        super(skipgram,self).__init__()   \n",
    "        self.embeddings = nn.Embedding(vocab_size, embedding_dim) # embeddings\n",
    "        self.linear1 = nn.Linear(embedding_dim, vocab_size) # \n",
    "\n",
    "  \n",
    "    def forward(self, cword_var): \n",
    "        embeds = self.embeddings(cword_var)  \n",
    "        out = self.linear1(embeds)  \n",
    "        log_probs = F.log_softmax(out)  \n",
    "        return log_probs  \n",
    " "
   ]
  },
  {
   "cell_type": "code",
   "execution_count": 19,
   "metadata": {
    "collapsed": true
   },
   "outputs": [],
   "source": [
    " \n",
    "def make_context_vector(context, word_to_ix):  \n",
    "    idxs = [word_to_ix[w] for w in context]  \n",
    "    tensor = torch.LongTensor(idxs)  \n",
    "    return Variable(tensor)  "
   ]
  },
  {
   "cell_type": "code",
   "execution_count": 20,
   "metadata": {},
   "outputs": [
    {
     "name": "stderr",
     "output_type": "stream",
     "text": [
      "/Users/efiathieniti/miniconda3/envs/py35/lib/python3.5/site-packages/ipykernel_launcher.py:12: UserWarning: Implicit dimension choice for log_softmax has been deprecated. Change the call to include dim=X as an argument.\n",
      "  if sys.path[0] == '':\n"
     ]
    },
    {
     "name": "stdout",
     "output_type": "stream",
     "text": [
      "epoch 0 tensor(8.2481)\n",
      "epoch 1 tensor(8.1486)\n",
      "epoch 2 tensor(8.0160)\n",
      "epoch 3 tensor(7.8684)\n",
      "epoch 4 tensor(7.7211)\n",
      "epoch 5 tensor(7.5762)\n",
      "epoch 6 tensor(7.4337)\n",
      "epoch 7 tensor(7.2947)\n",
      "epoch 8 tensor(7.1604)\n",
      "epoch 9 tensor(7.0318)\n",
      "epoch 10 tensor(6.9099)\n",
      "epoch 11 tensor(6.7955)\n",
      "epoch 12 tensor(6.6890)\n",
      "epoch 13 tensor(6.5908)\n",
      "epoch 14 tensor(6.5010)\n",
      "epoch 15 tensor(6.4195)\n",
      "epoch 16 tensor(6.3461)\n",
      "epoch 17 tensor(6.2805)\n",
      "epoch 18 tensor(6.2222)\n",
      "epoch 19 tensor(6.1708)\n",
      "epoch 20 tensor(6.1255)\n",
      "epoch 21 tensor(6.0860)\n",
      "epoch 22 tensor(6.0515)\n",
      "epoch 23 tensor(6.0216)\n",
      "epoch 24 tensor(5.9958)\n",
      "epoch 25 tensor(5.9736)\n",
      "epoch 26 tensor(5.9546)\n",
      "epoch 27 tensor(5.9384)\n",
      "epoch 28 tensor(5.9248)\n",
      "epoch 29 tensor(5.9133)\n",
      "epoch 30 tensor(5.9037)\n",
      "epoch 31 tensor(5.8958)\n",
      "epoch 32 tensor(5.8894)\n",
      "epoch 33 tensor(5.8842)\n",
      "epoch 34 tensor(5.8802)\n",
      "epoch 35 tensor(5.8772)\n",
      "epoch 36 tensor(5.8751)\n",
      "epoch 37 tensor(5.8736)\n",
      "epoch 38 tensor(5.8728)\n",
      "epoch 39 tensor(5.8726)\n",
      "epoch 40 tensor(5.8728)\n",
      "epoch 41 tensor(5.8734)\n",
      "epoch 42 tensor(5.8744)\n",
      "epoch 43 tensor(5.8757)\n",
      "epoch 44 tensor(5.8772)\n",
      "epoch 45 tensor(5.8790)\n",
      "epoch 46 tensor(5.8809)\n",
      "epoch 47 tensor(5.8830)\n",
      "epoch 48 tensor(5.8852)\n",
      "epoch 49 tensor(5.8874)\n",
      "epoch 50 tensor(5.8898)\n",
      "epoch 51 tensor(5.8921)\n",
      "epoch 52 tensor(5.8945)\n",
      "epoch 53 tensor(5.8969)\n",
      "epoch 54 tensor(5.8992)\n",
      "epoch 55 tensor(5.9015)\n",
      "epoch 56 tensor(5.9038)\n",
      "epoch 57 tensor(5.9061)\n",
      "epoch 58 tensor(5.9083)\n",
      "epoch 59 tensor(5.9105)\n",
      "epoch 60 tensor(5.9126)\n",
      "epoch 61 tensor(5.9147)\n",
      "epoch 62 tensor(5.9167)\n",
      "epoch 63 tensor(5.9186)\n",
      "epoch 64 tensor(5.9205)\n",
      "epoch 65 tensor(5.9222)\n",
      "epoch 66 tensor(5.9239)\n",
      "epoch 67 tensor(5.9255)\n",
      "epoch 68 tensor(5.9270)\n",
      "epoch 69 tensor(5.9284)\n",
      "epoch 70 tensor(5.9298)\n",
      "epoch 71 tensor(5.9312)\n",
      "epoch 72 tensor(5.9324)\n",
      "epoch 73 tensor(5.9336)\n",
      "epoch 74 tensor(5.9347)\n",
      "epoch 75 tensor(5.9357)\n",
      "epoch 76 tensor(5.9367)\n",
      "epoch 77 tensor(5.9376)\n",
      "epoch 78 tensor(5.9385)\n",
      "epoch 79 tensor(5.9394)\n",
      "epoch 80 tensor(5.9402)\n",
      "epoch 81 tensor(5.9409)\n",
      "epoch 82 tensor(5.9417)\n",
      "epoch 83 tensor(5.9424)\n",
      "epoch 84 tensor(5.9430)\n",
      "epoch 85 tensor(5.9436)\n",
      "epoch 86 tensor(5.9442)\n",
      "epoch 87 tensor(5.9447)\n",
      "epoch 88 tensor(5.9452)\n",
      "epoch 89 tensor(5.9457)\n",
      "epoch 90 tensor(5.9461)\n",
      "epoch 91 tensor(5.9465)\n",
      "epoch 92 tensor(5.9469)\n",
      "epoch 93 tensor(5.9472)\n",
      "epoch 94 tensor(5.9475)\n",
      "epoch 95 tensor(5.9478)\n",
      "epoch 96 tensor(5.9481)\n",
      "epoch 97 tensor(5.9483)\n",
      "epoch 98 tensor(5.9486)\n",
      "epoch 99 tensor(5.9488)\n",
      "[tensor(1.00000e+05 *\n",
      "       [ 1.8765]), tensor(1.00000e+05 *\n",
      "       [ 1.7740]), tensor(1.00000e+05 *\n",
      "       [ 1.7062]), tensor(1.00000e+05 *\n",
      "       [ 1.6579]), tensor(1.00000e+05 *\n",
      "       [ 1.6213]), tensor(1.00000e+05 *\n",
      "       [ 1.5925]), tensor(1.00000e+05 *\n",
      "       [ 1.5691]), tensor(1.00000e+05 *\n",
      "       [ 1.5496]), tensor(1.00000e+05 *\n",
      "       [ 1.5330]), tensor(1.00000e+05 *\n",
      "       [ 1.5186]), tensor(1.00000e+05 *\n",
      "       [ 1.5059]), tensor(1.00000e+05 *\n",
      "       [ 1.4946]), tensor(1.00000e+05 *\n",
      "       [ 1.4845]), tensor(1.00000e+05 *\n",
      "       [ 1.4753]), tensor(1.00000e+05 *\n",
      "       [ 1.4668]), tensor(1.00000e+05 *\n",
      "       [ 1.4589]), tensor(1.00000e+05 *\n",
      "       [ 1.4516]), tensor(1.00000e+05 *\n",
      "       [ 1.4448]), tensor(1.00000e+05 *\n",
      "       [ 1.4383]), tensor(1.00000e+05 *\n",
      "       [ 1.4322]), tensor(1.00000e+05 *\n",
      "       [ 1.4264]), tensor(1.00000e+05 *\n",
      "       [ 1.4209]), tensor(1.00000e+05 *\n",
      "       [ 1.4156]), tensor(1.00000e+05 *\n",
      "       [ 1.4106]), tensor(1.00000e+05 *\n",
      "       [ 1.4057]), tensor(1.00000e+05 *\n",
      "       [ 1.4011]), tensor([ 1.3966e+05]), tensor(1.00000e+05 *\n",
      "       [ 1.3923]), tensor(1.00000e+05 *\n",
      "       [ 1.3881]), tensor(1.00000e+05 *\n",
      "       [ 1.3841]), tensor(1.00000e+05 *\n",
      "       [ 1.3801]), tensor(1.00000e+05 *\n",
      "       [ 1.3763]), tensor(1.00000e+05 *\n",
      "       [ 1.3726]), tensor(1.00000e+05 *\n",
      "       [ 1.3691]), tensor(1.00000e+05 *\n",
      "       [ 1.3656]), tensor(1.00000e+05 *\n",
      "       [ 1.3622]), tensor(1.00000e+05 *\n",
      "       [ 1.3589]), tensor(1.00000e+05 *\n",
      "       [ 1.3556]), tensor(1.00000e+05 *\n",
      "       [ 1.3525]), tensor(1.00000e+05 *\n",
      "       [ 1.3494]), tensor(1.00000e+05 *\n",
      "       [ 1.3464]), tensor(1.00000e+05 *\n",
      "       [ 1.3435]), tensor(1.00000e+05 *\n",
      "       [ 1.3406]), tensor(1.00000e+05 *\n",
      "       [ 1.3378]), tensor(1.00000e+05 *\n",
      "       [ 1.3351]), tensor(1.00000e+05 *\n",
      "       [ 1.3324]), tensor(1.00000e+05 *\n",
      "       [ 1.3298]), tensor(1.00000e+05 *\n",
      "       [ 1.3272]), tensor(1.00000e+05 *\n",
      "       [ 1.3246]), tensor(1.00000e+05 *\n",
      "       [ 1.3222]), tensor(1.00000e+05 *\n",
      "       [ 1.3197]), tensor(1.00000e+05 *\n",
      "       [ 1.3173]), tensor(1.00000e+05 *\n",
      "       [ 1.3150]), tensor(1.00000e+05 *\n",
      "       [ 1.3127]), tensor(1.00000e+05 *\n",
      "       [ 1.3104]), tensor(1.00000e+05 *\n",
      "       [ 1.3082]), tensor(1.00000e+05 *\n",
      "       [ 1.3060]), tensor(1.00000e+05 *\n",
      "       [ 1.3038]), tensor(1.00000e+05 *\n",
      "       [ 1.3017]), tensor(1.00000e+05 *\n",
      "       [ 1.2996]), tensor(1.00000e+05 *\n",
      "       [ 1.2976]), tensor(1.00000e+05 *\n",
      "       [ 1.2956]), tensor(1.00000e+05 *\n",
      "       [ 1.2936]), tensor(1.00000e+05 *\n",
      "       [ 1.2916]), tensor(1.00000e+05 *\n",
      "       [ 1.2897]), tensor(1.00000e+05 *\n",
      "       [ 1.2878]), tensor(1.00000e+05 *\n",
      "       [ 1.2859]), tensor(1.00000e+05 *\n",
      "       [ 1.2841]), tensor(1.00000e+05 *\n",
      "       [ 1.2823]), tensor(1.00000e+05 *\n",
      "       [ 1.2805]), tensor(1.00000e+05 *\n",
      "       [ 1.2787]), tensor(1.00000e+05 *\n",
      "       [ 1.2770]), tensor(1.00000e+05 *\n",
      "       [ 1.2753]), tensor(1.00000e+05 *\n",
      "       [ 1.2736]), tensor(1.00000e+05 *\n",
      "       [ 1.2719]), tensor(1.00000e+05 *\n",
      "       [ 1.2703]), tensor(1.00000e+05 *\n",
      "       [ 1.2686]), tensor(1.00000e+05 *\n",
      "       [ 1.2670]), tensor(1.00000e+05 *\n",
      "       [ 1.2655]), tensor(1.00000e+05 *\n",
      "       [ 1.2639]), tensor(1.00000e+05 *\n",
      "       [ 1.2624]), tensor(1.00000e+05 *\n",
      "       [ 1.2608]), tensor(1.00000e+05 *\n",
      "       [ 1.2593]), tensor(1.00000e+05 *\n",
      "       [ 1.2578]), tensor(1.00000e+05 *\n",
      "       [ 1.2564]), tensor([ 1.2549e+05]), tensor(1.00000e+05 *\n",
      "       [ 1.2535]), tensor(1.00000e+05 *\n",
      "       [ 1.2521]), tensor(1.00000e+05 *\n",
      "       [ 1.2507]), tensor(1.00000e+05 *\n",
      "       [ 1.2493]), tensor(1.00000e+05 *\n",
      "       [ 1.2479]), tensor(1.00000e+05 *\n",
      "       [ 1.2465]), tensor(1.00000e+05 *\n",
      "       [ 1.2452]), tensor(1.00000e+05 *\n",
      "       [ 1.2439]), tensor(1.00000e+05 *\n",
      "       [ 1.2426]), tensor(1.00000e+05 *\n",
      "       [ 1.2413]), tensor(1.00000e+05 *\n",
      "       [ 1.2400]), tensor(1.00000e+05 *\n",
      "       [ 1.2387]), tensor(1.00000e+05 *\n",
      "       [ 1.2375]), tensor(1.00000e+05 *\n",
      "       [ 1.2362])]\n"
     ]
    }
   ],
   "source": [
    "CONTEXT_SIZE=context_size\n",
    "  \n",
    "embedding_dims = 50\n",
    "\n",
    "  \n",
    "#make_context_vector(data[0][0], word_to_ix)  # example  \n",
    "  \n",
    "# loss model optimizer  \n",
    "losses = []  \n",
    "loss_function = nn.NLLLoss()  \n",
    "model = skipgram(vocab_size, embedding_dim=embedding_dims)  \n",
    "optimizer = optim.SGD(model.parameters(), lr=0.001)  \n",
    "\n",
    "epochs = 50\n",
    "for epoch in range(epochs):  \n",
    "    total_loss = torch.FloatTensor([0])  \n",
    "    for context_words, cword in data: \n",
    "\n",
    "        context_var = torch.LongTensor([context_words]) \n",
    "        cword_var = Variable(torch.LongTensor([cword]))  \n",
    "        model.zero_grad()  \n",
    "        # input to model is the central word\n",
    "        log_probs = model(cword_var)  \n",
    "        loss = loss_function(log_probs, context_var)  \n",
    "        loss.backward()  \n",
    "        optimizer.step()  \n",
    "\n",
    "        total_loss += loss.data  \n",
    "    print(\"epoch\", epoch, loss.data)\n",
    "    #print(total_loss)\n",
    "    losses.append(total_loss)  \n",
    "print(losses) "
   ]
  },
  {
   "cell_type": "markdown",
   "metadata": {},
   "source": [
    "## Save the embeddings"
   ]
  },
  {
   "cell_type": "code",
   "execution_count": 21,
   "metadata": {
    "collapsed": true
   },
   "outputs": [],
   "source": [
    "embeddings = model.embeddings.weight\n",
    "import csv\n",
    "\n",
    "embeddings_file=\"embeddings_final_\" + str(mode) + str(epochs) + \"_\" +str(embedding_dims) + \"_scratch.txt\"\n",
    "with open(embeddings_file, 'w') as csvfile:\n",
    "    writer = csv.writer(csvfile, delimiter = ' ')\n",
    "    writer.writerow([vocabulary_size, embedding_dims])\n",
    "\n",
    "    for i in range(embeddings.size()[0]):\n",
    "        word = idx2word[i]\n",
    "\n",
    "        embedding = embeddings[i, :]\n",
    "        #print(embedding)\n",
    "        embedding = list(embedding.data.numpy()) \n",
    "        line = [word] + embedding\n",
    "        writer.writerow(line)\n",
    "\n",
    "        "
   ]
  },
  {
   "cell_type": "markdown",
   "metadata": {},
   "source": [
    "## Load the embeddings learned "
   ]
  },
  {
   "cell_type": "code",
   "execution_count": null,
   "metadata": {
    "collapsed": true
   },
   "outputs": [],
   "source": []
  },
  {
   "cell_type": "code",
   "execution_count": 22,
   "metadata": {},
   "outputs": [],
   "source": [
    "#embeddings_file=\"embeddings_full100_100_final.txt\"\n",
    "\n",
    "from gensim.models import KeyedVectors\n",
    "#word_vectors = KeyedVectors.load_word2vec_format('../../../ULL/data/bow2.words.bz2', binary=False)  # C text format\n",
    "word_vectors = KeyedVectors.load_word2vec_format(embeddings_file, binary=False)  # C binary format"
   ]
  },
  {
   "cell_type": "code",
   "execution_count": 23,
   "metadata": {},
   "outputs": [
    {
     "name": "stdout",
     "output_type": "stream",
     "text": [
      "0.134572\n"
     ]
    }
   ],
   "source": [
    "print(word_vectors.similarity('message', 'issue'))\n"
   ]
  },
  {
   "cell_type": "markdown",
   "metadata": {},
   "source": [
    "## Calculate similarity"
   ]
  },
  {
   "cell_type": "code",
   "execution_count": 24,
   "metadata": {},
   "outputs": [
    {
     "name": "stdout",
     "output_type": "stream",
     "text": [
      "-0.0188806\n"
     ]
    }
   ],
   "source": [
    "print(word_vectors.similarity('disturbed', 'pervasive'))\n"
   ]
  },
  {
   "cell_type": "code",
   "execution_count": 25,
   "metadata": {},
   "outputs": [
    {
     "data": {
      "text/plain": [
       "'embeddings_final_full100_50_scratch.txt'"
      ]
     },
     "execution_count": 25,
     "metadata": {},
     "output_type": "execute_result"
    }
   ],
   "source": [
    "embeddings_file"
   ]
  },
  {
   "cell_type": "code",
   "execution_count": 26,
   "metadata": {},
   "outputs": [
    {
     "data": {
      "text/plain": [
       "((0.31042904413301226, 0.13097256206792052),\n",
       " SpearmanrResult(correlation=0.34923076923076918, pvalue=0.087060632485273348),\n",
       " 92.91784702549575)"
      ]
     },
     "execution_count": 26,
     "metadata": {},
     "output_type": "execute_result"
    }
   ],
   "source": [
    "word_vectors.evaluate_word_pairs(\"../../gensim/gensim/test/test_data/wordsim353.tsv\")\n"
   ]
  },
  {
   "cell_type": "markdown",
   "metadata": {},
   "source": [
    "# Bayesian skip-gram"
   ]
  },
  {
   "cell_type": "markdown",
   "metadata": {},
   "source": [
    "1. \n",
    "For each word/training point (xi) calculate elbo (loss)\n",
    "xi - training points\n"
   ]
  },
  {
   "cell_type": "markdown",
   "metadata": {},
   "source": [
    "### Create the word, contexts for bayesian"
   ]
  },
  {
   "cell_type": "code",
   "execution_count": 108,
   "metadata": {},
   "outputs": [
    {
     "data": {
      "text/plain": [
       "([119, 104, 25, 121], 120)"
      ]
     },
     "execution_count": 108,
     "metadata": {},
     "output_type": "execute_result"
    }
   ],
   "source": [
    "bayesian_data[200]\n"
   ]
  },
  {
   "cell_type": "code",
   "execution_count": 113,
   "metadata": {
    "collapsed": true
   },
   "outputs": [],
   "source": [
    "  \n",
    "class bayesian_skipgram(nn.Module):  \n",
    "    def __init__(self, vocab_size, embedding_dim):\n",
    "        super(bayesian_skipgram,self).__init__()   \n",
    "        \n",
    "        hidden_dim = 150\n",
    "        # embeddings lookup\n",
    "        self.embeddings = nn.Embedding(vocab_size, embedding_dim) # embeddings\n",
    "        self.linear1 = nn.Linear(embedding_dim, vocab_size) #\n",
    "        \n",
    "        \n",
    "        # M linear projection [hid_dim, 2 * embd_dim]\n",
    "        self.M_linear = nn.Linear(2*embedding_dim, embedding_dim)\n",
    "        self.relu = nn.ReLU()\n",
    "        \n",
    "        self.U = nn.Linear(embedding_dim, embedding_dim) #\n",
    "        self.W = nn.Linear(embedding_dim, embedding_dim) #\n",
    "\n",
    "\n",
    "\n",
    "    def forward(self, cword_var, context_var): \n",
    "        \n",
    "        # contexts_emb: Rcj, cword_emb: \n",
    "        contexts_emb = self.embeddings(context_var) \n",
    "        print(\"contexts_emb\",contexts_emb.size())\n",
    "        cword_emb = self.embeddings(cword_var).view(1,-1)\n",
    "        cwords_emb = cword_emb.repeat(1,contexts_emb.size()[1],1)\n",
    "        \n",
    "        # concatenate word and context\n",
    "        # (1, window_size, 2*emb_dim)\n",
    "        word_contexts = torch.cat((cwords_emb, contexts_emb),2)\n",
    "        print(\"word_contexts\",word_contexts.size())\n",
    "        \n",
    "        #\n",
    "        # linear projection, M\n",
    "        # (1, window_size, 2*emb_dim)\n",
    "        #\n",
    "        word_contexts = self.M_linear(word_contexts)\n",
    "        print(\"word_contexts_M\",word_contexts.size())\n",
    "\n",
    "        word_contexts = self.relu(word_contexts)\n",
    "        \n",
    "        # sum to collapse window_size dimension\n",
    "        sum_contexts = torch.sum(word_contexts, 1)\n",
    "        print(\"sum_contexts\",sum_contexts.size())\n",
    "\n",
    "        #\n",
    "        # obtain the mu and sigma \n",
    "        #\n",
    "        \n",
    "        mu = self.U(sum_contexts)\n",
    "        sigma = self.W(sum_contexts)\n",
    "        print(\"mu\",mu.size(),\"sigma\", sigma.size())\n",
    "        \n",
    "        out = self.linear1(sum_contexts)  \n",
    "        log_probs = F.log_softmax(sum_contexts) \n",
    "        \n",
    "        #\n",
    "        # Do the sampling\n",
    "        #\n",
    "        \n",
    "        return log_probs "
   ]
  },
  {
   "cell_type": "code",
   "execution_count": 114,
   "metadata": {},
   "outputs": [
    {
     "name": "stdout",
     "output_type": "stream",
     "text": [
      "contexts_emb torch.Size([1, 4, 100])\n",
      "word_contexts torch.Size([1, 4, 200])\n",
      "word_contexts_M torch.Size([1, 4, 100])\n",
      "sum_contexts torch.Size([1, 100])\n",
      "mu torch.Size([1, 100]) sigma torch.Size([1, 100])\n"
     ]
    },
    {
     "name": "stderr",
     "output_type": "stream",
     "text": [
      "/Users/efiathieniti/miniconda3/envs/py35/lib/python3.5/site-packages/ipykernel_launcher.py:54: UserWarning: Implicit dimension choice for log_softmax has been deprecated. Change the call to include dim=X as an argument.\n"
     ]
    },
    {
     "ename": "RuntimeError",
     "evalue": "multi-target not supported at /Users/soumith/minicondabuild3/conda-bld/pytorch_1524589329605/work/aten/src/THNN/generic/ClassNLLCriterion.c:22",
     "output_type": "error",
     "traceback": [
      "\u001b[0;31m---------------------------------------------------------------------------\u001b[0m",
      "\u001b[0;31mRuntimeError\u001b[0m                              Traceback (most recent call last)",
      "\u001b[0;32m<ipython-input-114-3f7744e2a345>\u001b[0m in \u001b[0;36m<module>\u001b[0;34m()\u001b[0m\n\u001b[1;32m     22\u001b[0m         \u001b[0;31m# input to model is the central word\u001b[0m\u001b[0;34m\u001b[0m\u001b[0;34m\u001b[0m\u001b[0m\n\u001b[1;32m     23\u001b[0m         \u001b[0mlog_probs\u001b[0m \u001b[0;34m=\u001b[0m \u001b[0mmodel\u001b[0m\u001b[0;34m(\u001b[0m\u001b[0mcword_var\u001b[0m\u001b[0;34m,\u001b[0m \u001b[0mcontext_var\u001b[0m\u001b[0;34m)\u001b[0m\u001b[0;34m\u001b[0m\u001b[0m\n\u001b[0;32m---> 24\u001b[0;31m         \u001b[0mloss\u001b[0m \u001b[0;34m=\u001b[0m \u001b[0mloss_function\u001b[0m\u001b[0;34m(\u001b[0m\u001b[0mlog_probs\u001b[0m\u001b[0;34m,\u001b[0m \u001b[0mcontext_var\u001b[0m\u001b[0;34m)\u001b[0m\u001b[0;34m\u001b[0m\u001b[0m\n\u001b[0m\u001b[1;32m     25\u001b[0m         \u001b[0mloss\u001b[0m\u001b[0;34m.\u001b[0m\u001b[0mbackward\u001b[0m\u001b[0;34m(\u001b[0m\u001b[0;34m)\u001b[0m\u001b[0;34m\u001b[0m\u001b[0m\n\u001b[1;32m     26\u001b[0m         \u001b[0moptimizer\u001b[0m\u001b[0;34m.\u001b[0m\u001b[0mstep\u001b[0m\u001b[0;34m(\u001b[0m\u001b[0;34m)\u001b[0m\u001b[0;34m\u001b[0m\u001b[0m\n",
      "\u001b[0;32m/Users/efiathieniti/miniconda3/envs/py35/lib/python3.5/site-packages/torch/nn/modules/module.py\u001b[0m in \u001b[0;36m__call__\u001b[0;34m(self, *input, **kwargs)\u001b[0m\n\u001b[1;32m    489\u001b[0m             \u001b[0mresult\u001b[0m \u001b[0;34m=\u001b[0m \u001b[0mself\u001b[0m\u001b[0;34m.\u001b[0m\u001b[0m_slow_forward\u001b[0m\u001b[0;34m(\u001b[0m\u001b[0;34m*\u001b[0m\u001b[0minput\u001b[0m\u001b[0;34m,\u001b[0m \u001b[0;34m**\u001b[0m\u001b[0mkwargs\u001b[0m\u001b[0;34m)\u001b[0m\u001b[0;34m\u001b[0m\u001b[0m\n\u001b[1;32m    490\u001b[0m         \u001b[0;32melse\u001b[0m\u001b[0;34m:\u001b[0m\u001b[0;34m\u001b[0m\u001b[0m\n\u001b[0;32m--> 491\u001b[0;31m             \u001b[0mresult\u001b[0m \u001b[0;34m=\u001b[0m \u001b[0mself\u001b[0m\u001b[0;34m.\u001b[0m\u001b[0mforward\u001b[0m\u001b[0;34m(\u001b[0m\u001b[0;34m*\u001b[0m\u001b[0minput\u001b[0m\u001b[0;34m,\u001b[0m \u001b[0;34m**\u001b[0m\u001b[0mkwargs\u001b[0m\u001b[0;34m)\u001b[0m\u001b[0;34m\u001b[0m\u001b[0m\n\u001b[0m\u001b[1;32m    492\u001b[0m         \u001b[0;32mfor\u001b[0m \u001b[0mhook\u001b[0m \u001b[0;32min\u001b[0m \u001b[0mself\u001b[0m\u001b[0;34m.\u001b[0m\u001b[0m_forward_hooks\u001b[0m\u001b[0;34m.\u001b[0m\u001b[0mvalues\u001b[0m\u001b[0;34m(\u001b[0m\u001b[0;34m)\u001b[0m\u001b[0;34m:\u001b[0m\u001b[0;34m\u001b[0m\u001b[0m\n\u001b[1;32m    493\u001b[0m             \u001b[0mhook_result\u001b[0m \u001b[0;34m=\u001b[0m \u001b[0mhook\u001b[0m\u001b[0;34m(\u001b[0m\u001b[0mself\u001b[0m\u001b[0;34m,\u001b[0m \u001b[0minput\u001b[0m\u001b[0;34m,\u001b[0m \u001b[0mresult\u001b[0m\u001b[0;34m)\u001b[0m\u001b[0;34m\u001b[0m\u001b[0m\n",
      "\u001b[0;32m/Users/efiathieniti/miniconda3/envs/py35/lib/python3.5/site-packages/torch/nn/modules/loss.py\u001b[0m in \u001b[0;36mforward\u001b[0;34m(self, input, target)\u001b[0m\n\u001b[1;32m    191\u001b[0m         \u001b[0m_assert_no_grad\u001b[0m\u001b[0;34m(\u001b[0m\u001b[0mtarget\u001b[0m\u001b[0;34m)\u001b[0m\u001b[0;34m\u001b[0m\u001b[0m\n\u001b[1;32m    192\u001b[0m         return F.nll_loss(input, target, self.weight, self.size_average,\n\u001b[0;32m--> 193\u001b[0;31m                           self.ignore_index, self.reduce)\n\u001b[0m\u001b[1;32m    194\u001b[0m \u001b[0;34m\u001b[0m\u001b[0m\n\u001b[1;32m    195\u001b[0m \u001b[0;34m\u001b[0m\u001b[0m\n",
      "\u001b[0;32m/Users/efiathieniti/miniconda3/envs/py35/lib/python3.5/site-packages/torch/nn/functional.py\u001b[0m in \u001b[0;36mnll_loss\u001b[0;34m(input, target, weight, size_average, ignore_index, reduce)\u001b[0m\n\u001b[1;32m   1330\u001b[0m                          .format(input.size(0), target.size(0)))\n\u001b[1;32m   1331\u001b[0m     \u001b[0;32mif\u001b[0m \u001b[0mdim\u001b[0m \u001b[0;34m==\u001b[0m \u001b[0;36m2\u001b[0m\u001b[0;34m:\u001b[0m\u001b[0;34m\u001b[0m\u001b[0m\n\u001b[0;32m-> 1332\u001b[0;31m         \u001b[0;32mreturn\u001b[0m \u001b[0mtorch\u001b[0m\u001b[0;34m.\u001b[0m\u001b[0m_C\u001b[0m\u001b[0;34m.\u001b[0m\u001b[0m_nn\u001b[0m\u001b[0;34m.\u001b[0m\u001b[0mnll_loss\u001b[0m\u001b[0;34m(\u001b[0m\u001b[0minput\u001b[0m\u001b[0;34m,\u001b[0m \u001b[0mtarget\u001b[0m\u001b[0;34m,\u001b[0m \u001b[0mweight\u001b[0m\u001b[0;34m,\u001b[0m \u001b[0msize_average\u001b[0m\u001b[0;34m,\u001b[0m \u001b[0mignore_index\u001b[0m\u001b[0;34m,\u001b[0m \u001b[0mreduce\u001b[0m\u001b[0;34m)\u001b[0m\u001b[0;34m\u001b[0m\u001b[0m\n\u001b[0m\u001b[1;32m   1333\u001b[0m     \u001b[0;32melif\u001b[0m \u001b[0mdim\u001b[0m \u001b[0;34m==\u001b[0m \u001b[0;36m4\u001b[0m\u001b[0;34m:\u001b[0m\u001b[0;34m\u001b[0m\u001b[0m\n\u001b[1;32m   1334\u001b[0m         \u001b[0;32mreturn\u001b[0m \u001b[0mtorch\u001b[0m\u001b[0;34m.\u001b[0m\u001b[0m_C\u001b[0m\u001b[0;34m.\u001b[0m\u001b[0m_nn\u001b[0m\u001b[0;34m.\u001b[0m\u001b[0mnll_loss2d\u001b[0m\u001b[0;34m(\u001b[0m\u001b[0minput\u001b[0m\u001b[0;34m,\u001b[0m \u001b[0mtarget\u001b[0m\u001b[0;34m,\u001b[0m \u001b[0mweight\u001b[0m\u001b[0;34m,\u001b[0m \u001b[0msize_average\u001b[0m\u001b[0;34m,\u001b[0m \u001b[0mignore_index\u001b[0m\u001b[0;34m,\u001b[0m \u001b[0mreduce\u001b[0m\u001b[0;34m)\u001b[0m\u001b[0;34m\u001b[0m\u001b[0m\n",
      "\u001b[0;31mRuntimeError\u001b[0m: multi-target not supported at /Users/soumith/minicondabuild3/conda-bld/pytorch_1524589329605/work/aten/src/THNN/generic/ClassNLLCriterion.c:22"
     ]
    }
   ],
   "source": [
    "CONTEXT_SIZE=context_size\n",
    "  \n",
    "embedding_dims = 100\n",
    "\n",
    "  \n",
    "#make_context_vector(data[0][0], word_to_ix)  # example  \n",
    "  \n",
    "# loss model optimizer  \n",
    "losses = []  \n",
    "loss_function = nn.NLLLoss()  \n",
    "model = bayesian_skipgram(vocab_size, embedding_dim=embedding_dims)  \n",
    "optimizer = optim.SGD(model.parameters(), lr=0.001)  \n",
    "\n",
    "\n",
    "epochs = 100\n",
    "for epoch in range(epochs):  \n",
    "    total_loss = torch.FloatTensor([0])  \n",
    "    for context_words, cword in bayesian_data[100:]: \n",
    "        context_var = torch.LongTensor([context_words]) \n",
    "        cword_var = Variable(torch.LongTensor([cword]))  \n",
    "        model.zero_grad()  \n",
    "        # input to model is the central word\n",
    "        log_probs = model(cword_var, context_var)  \n",
    "        loss = loss_function(log_probs, context_var)  \n",
    "        loss.backward()  \n",
    "        optimizer.step()  \n",
    "\n",
    "        total_loss += loss.data  \n",
    "    print(\"epoch\", epoch, loss.data)\n",
    "    #print(total_loss)\n",
    "    losses.append(total_loss)  \n",
    "print(losses) "
   ]
  }
 ],
 "metadata": {
  "kernelspec": {
   "display_name": "Python 3",
   "language": "python",
   "name": "python3"
  },
  "language_info": {
   "codemirror_mode": {
    "name": "ipython",
    "version": 3
   },
   "file_extension": ".py",
   "mimetype": "text/x-python",
   "name": "python",
   "nbconvert_exporter": "python",
   "pygments_lexer": "ipython3",
   "version": "3.5.3"
  }
 },
 "nbformat": 4,
 "nbformat_minor": 2
}
